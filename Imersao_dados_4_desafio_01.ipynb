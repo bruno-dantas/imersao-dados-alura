{
  "nbformat": 4,
  "nbformat_minor": 0,
  "metadata": {
    "colab": {
      "name": "Imersao_dados_4_desafio_01.ipynb",
      "provenance": [],
      "include_colab_link": true
    },
    "kernelspec": {
      "name": "python3",
      "display_name": "Python 3"
    },
    "language_info": {
      "name": "python"
    }
  },
  "cells": [
    {
      "cell_type": "markdown",
      "metadata": {
        "id": "view-in-github",
        "colab_type": "text"
      },
      "source": [
        "<a href=\"https://colab.research.google.com/github/bruno-dantas/imersao-dados-alura/blob/main/Imersao_dados_4_desafio_01.ipynb\" target=\"_parent\"><img src=\"https://colab.research.google.com/assets/colab-badge.svg\" alt=\"Open In Colab\"/></a>"
      ]
    },
    {
      "cell_type": "code",
      "execution_count": 1,
      "metadata": {
        "id": "hz9yn4dWQKf9"
      },
      "outputs": [],
      "source": [
        "import pandas as pd\n",
        "import numpy as np\n",
        "url = \"https://gist.githubusercontent.com/tgcsantos/3bdb29eba6ce391e90df2b72205ba891/raw/22fa920e80c9fa209a9fccc8b52d74cc95d1599b/dados_imoveis.csv\"\n",
        "dados = pd.read_csv(url)"
      ]
    },
    {
      "cell_type": "code",
      "source": [
        "dados.head()"
      ],
      "metadata": {
        "colab": {
          "base_uri": "https://localhost:8080/",
          "height": 206
        },
        "id": "7e2Kmt74QnFZ",
        "outputId": "2b078054-8a35-4201-be18-ec954d84f26a"
      },
      "execution_count": 2,
      "outputs": [
        {
          "output_type": "execute_result",
          "data": {
            "text/plain": [
              "                              Rua              Bairro     Cidade  Metragem  \\\n",
              "0           Avenida Itacira, 255    Planalto Paulista  São Paulo      1000   \n",
              "1  Rua Aurelia Perez Alvarez, 42   Jardim dos Estados  São Paulo       496   \n",
              "2                 Rua Alba Valdez     Jardim Reimberg  São Paulo       125   \n",
              "3                             NaN      Jardim Morumbi  São Paulo       310   \n",
              "4        Rua Tobias Barreto, 195                Mooca  São Paulo       100   \n",
              "\n",
              "   Quartos  Banheiros  Vagas         Valor  \n",
              "0        4          8      6  R$ 7.000.000  \n",
              "1        4          4      4  R$ 3.700.000  \n",
              "2        4          3      2    R$ 380.000  \n",
              "3        3          2      4    R$ 685.000  \n",
              "4        3          2      2    R$ 540.000  "
            ],
            "text/html": [
              "\n",
              "  <div id=\"df-caac44df-5053-4bb3-9046-2a8596427be1\">\n",
              "    <div class=\"colab-df-container\">\n",
              "      <div>\n",
              "<style scoped>\n",
              "    .dataframe tbody tr th:only-of-type {\n",
              "        vertical-align: middle;\n",
              "    }\n",
              "\n",
              "    .dataframe tbody tr th {\n",
              "        vertical-align: top;\n",
              "    }\n",
              "\n",
              "    .dataframe thead th {\n",
              "        text-align: right;\n",
              "    }\n",
              "</style>\n",
              "<table border=\"1\" class=\"dataframe\">\n",
              "  <thead>\n",
              "    <tr style=\"text-align: right;\">\n",
              "      <th></th>\n",
              "      <th>Rua</th>\n",
              "      <th>Bairro</th>\n",
              "      <th>Cidade</th>\n",
              "      <th>Metragem</th>\n",
              "      <th>Quartos</th>\n",
              "      <th>Banheiros</th>\n",
              "      <th>Vagas</th>\n",
              "      <th>Valor</th>\n",
              "    </tr>\n",
              "  </thead>\n",
              "  <tbody>\n",
              "    <tr>\n",
              "      <th>0</th>\n",
              "      <td>Avenida Itacira, 255</td>\n",
              "      <td>Planalto Paulista</td>\n",
              "      <td>São Paulo</td>\n",
              "      <td>1000</td>\n",
              "      <td>4</td>\n",
              "      <td>8</td>\n",
              "      <td>6</td>\n",
              "      <td>R$ 7.000.000</td>\n",
              "    </tr>\n",
              "    <tr>\n",
              "      <th>1</th>\n",
              "      <td>Rua Aurelia Perez Alvarez, 42</td>\n",
              "      <td>Jardim dos Estados</td>\n",
              "      <td>São Paulo</td>\n",
              "      <td>496</td>\n",
              "      <td>4</td>\n",
              "      <td>4</td>\n",
              "      <td>4</td>\n",
              "      <td>R$ 3.700.000</td>\n",
              "    </tr>\n",
              "    <tr>\n",
              "      <th>2</th>\n",
              "      <td>Rua Alba Valdez</td>\n",
              "      <td>Jardim Reimberg</td>\n",
              "      <td>São Paulo</td>\n",
              "      <td>125</td>\n",
              "      <td>4</td>\n",
              "      <td>3</td>\n",
              "      <td>2</td>\n",
              "      <td>R$ 380.000</td>\n",
              "    </tr>\n",
              "    <tr>\n",
              "      <th>3</th>\n",
              "      <td>NaN</td>\n",
              "      <td>Jardim Morumbi</td>\n",
              "      <td>São Paulo</td>\n",
              "      <td>310</td>\n",
              "      <td>3</td>\n",
              "      <td>2</td>\n",
              "      <td>4</td>\n",
              "      <td>R$ 685.000</td>\n",
              "    </tr>\n",
              "    <tr>\n",
              "      <th>4</th>\n",
              "      <td>Rua Tobias Barreto, 195</td>\n",
              "      <td>Mooca</td>\n",
              "      <td>São Paulo</td>\n",
              "      <td>100</td>\n",
              "      <td>3</td>\n",
              "      <td>2</td>\n",
              "      <td>2</td>\n",
              "      <td>R$ 540.000</td>\n",
              "    </tr>\n",
              "  </tbody>\n",
              "</table>\n",
              "</div>\n",
              "      <button class=\"colab-df-convert\" onclick=\"convertToInteractive('df-caac44df-5053-4bb3-9046-2a8596427be1')\"\n",
              "              title=\"Convert this dataframe to an interactive table.\"\n",
              "              style=\"display:none;\">\n",
              "        \n",
              "  <svg xmlns=\"http://www.w3.org/2000/svg\" height=\"24px\"viewBox=\"0 0 24 24\"\n",
              "       width=\"24px\">\n",
              "    <path d=\"M0 0h24v24H0V0z\" fill=\"none\"/>\n",
              "    <path d=\"M18.56 5.44l.94 2.06.94-2.06 2.06-.94-2.06-.94-.94-2.06-.94 2.06-2.06.94zm-11 1L8.5 8.5l.94-2.06 2.06-.94-2.06-.94L8.5 2.5l-.94 2.06-2.06.94zm10 10l.94 2.06.94-2.06 2.06-.94-2.06-.94-.94-2.06-.94 2.06-2.06.94z\"/><path d=\"M17.41 7.96l-1.37-1.37c-.4-.4-.92-.59-1.43-.59-.52 0-1.04.2-1.43.59L10.3 9.45l-7.72 7.72c-.78.78-.78 2.05 0 2.83L4 21.41c.39.39.9.59 1.41.59.51 0 1.02-.2 1.41-.59l7.78-7.78 2.81-2.81c.8-.78.8-2.07 0-2.86zM5.41 20L4 18.59l7.72-7.72 1.47 1.35L5.41 20z\"/>\n",
              "  </svg>\n",
              "      </button>\n",
              "      \n",
              "  <style>\n",
              "    .colab-df-container {\n",
              "      display:flex;\n",
              "      flex-wrap:wrap;\n",
              "      gap: 12px;\n",
              "    }\n",
              "\n",
              "    .colab-df-convert {\n",
              "      background-color: #E8F0FE;\n",
              "      border: none;\n",
              "      border-radius: 50%;\n",
              "      cursor: pointer;\n",
              "      display: none;\n",
              "      fill: #1967D2;\n",
              "      height: 32px;\n",
              "      padding: 0 0 0 0;\n",
              "      width: 32px;\n",
              "    }\n",
              "\n",
              "    .colab-df-convert:hover {\n",
              "      background-color: #E2EBFA;\n",
              "      box-shadow: 0px 1px 2px rgba(60, 64, 67, 0.3), 0px 1px 3px 1px rgba(60, 64, 67, 0.15);\n",
              "      fill: #174EA6;\n",
              "    }\n",
              "\n",
              "    [theme=dark] .colab-df-convert {\n",
              "      background-color: #3B4455;\n",
              "      fill: #D2E3FC;\n",
              "    }\n",
              "\n",
              "    [theme=dark] .colab-df-convert:hover {\n",
              "      background-color: #434B5C;\n",
              "      box-shadow: 0px 1px 3px 1px rgba(0, 0, 0, 0.15);\n",
              "      filter: drop-shadow(0px 1px 2px rgba(0, 0, 0, 0.3));\n",
              "      fill: #FFFFFF;\n",
              "    }\n",
              "  </style>\n",
              "\n",
              "      <script>\n",
              "        const buttonEl =\n",
              "          document.querySelector('#df-caac44df-5053-4bb3-9046-2a8596427be1 button.colab-df-convert');\n",
              "        buttonEl.style.display =\n",
              "          google.colab.kernel.accessAllowed ? 'block' : 'none';\n",
              "\n",
              "        async function convertToInteractive(key) {\n",
              "          const element = document.querySelector('#df-caac44df-5053-4bb3-9046-2a8596427be1');\n",
              "          const dataTable =\n",
              "            await google.colab.kernel.invokeFunction('convertToInteractive',\n",
              "                                                     [key], {});\n",
              "          if (!dataTable) return;\n",
              "\n",
              "          const docLinkHtml = 'Like what you see? Visit the ' +\n",
              "            '<a target=\"_blank\" href=https://colab.research.google.com/notebooks/data_table.ipynb>data table notebook</a>'\n",
              "            + ' to learn more about interactive tables.';\n",
              "          element.innerHTML = '';\n",
              "          dataTable['output_type'] = 'display_data';\n",
              "          await google.colab.output.renderOutput(dataTable, element);\n",
              "          const docLink = document.createElement('div');\n",
              "          docLink.innerHTML = docLinkHtml;\n",
              "          element.appendChild(docLink);\n",
              "        }\n",
              "      </script>\n",
              "    </div>\n",
              "  </div>\n",
              "  "
            ]
          },
          "metadata": {},
          "execution_count": 2
        }
      ]
    },
    {
      "cell_type": "code",
      "source": [
        "dados.sample(10)"
      ],
      "metadata": {
        "colab": {
          "base_uri": "https://localhost:8080/",
          "height": 363
        },
        "id": "_RTJqQIiShML",
        "outputId": "767d0051-4210-4b60-beb1-2ac7c09c3afc"
      },
      "execution_count": 3,
      "outputs": [
        {
          "output_type": "execute_result",
          "data": {
            "text/plain": [
              "                                   Rua                            Bairro  \\\n",
              "3522                               NaN                     Jardim Leonor   \n",
              "9843            Rua José Santana, 480                          Vila Reis   \n",
              "6588        Rua Álvaro Rodrigues, 658                      Vila Cordeiro   \n",
              "8165                               NaN                        Belenzinho   \n",
              "2834      Rua Hermógenes Almeida Prado                    Jardim Guedala   \n",
              "6179                  Travessa Estrela  Conjunto Promorar Raposo Tavares   \n",
              "610   Rua Comendador Bichara Moherdauí                     Jardim Leonor   \n",
              "6121               Rua Eliseu Visconti              Paineiras do Morumbi   \n",
              "9714                Rua Pistache, 100               Parque dos Príncipes   \n",
              "7755                               NaN                            Sumaré   \n",
              "\n",
              "         Cidade  Metragem  Quartos  Banheiros  Vagas  \\\n",
              "3522  São Paulo       300        3          4      3   \n",
              "9843  São Paulo        66        2          1      2   \n",
              "6588  São Paulo       300        3          4      2   \n",
              "8165  São Paulo       230        3          2      3   \n",
              "2834  São Paulo       800        4          8      4   \n",
              "6179  São Paulo       245        6          5      1   \n",
              "610   São Paulo       600        3          7      4   \n",
              "6121  São Paulo       660        4          4      6   \n",
              "9714  São Paulo       289        5          3      4   \n",
              "7755  São Paulo       350        3          2      2   \n",
              "\n",
              "                                      Valor  \n",
              "3522                           R$ 1.100.000  \n",
              "9843                             R$ 320.004  \n",
              "6588                           R$ 1.700.000  \n",
              "8165                           R$ 1.500.000  \n",
              "2834                           R$ 3.950.000  \n",
              "6179                             R$ 500.000  \n",
              "610                            R$ 4.500.000  \n",
              "6121                           R$ 4.300.000  \n",
              "9714                           R$ 1.300.000  \n",
              "7755  R$ 10.000\\n                      /Mês  "
            ],
            "text/html": [
              "\n",
              "  <div id=\"df-9f8faa4b-460d-4f39-b3f6-f7b0e79d9ba9\">\n",
              "    <div class=\"colab-df-container\">\n",
              "      <div>\n",
              "<style scoped>\n",
              "    .dataframe tbody tr th:only-of-type {\n",
              "        vertical-align: middle;\n",
              "    }\n",
              "\n",
              "    .dataframe tbody tr th {\n",
              "        vertical-align: top;\n",
              "    }\n",
              "\n",
              "    .dataframe thead th {\n",
              "        text-align: right;\n",
              "    }\n",
              "</style>\n",
              "<table border=\"1\" class=\"dataframe\">\n",
              "  <thead>\n",
              "    <tr style=\"text-align: right;\">\n",
              "      <th></th>\n",
              "      <th>Rua</th>\n",
              "      <th>Bairro</th>\n",
              "      <th>Cidade</th>\n",
              "      <th>Metragem</th>\n",
              "      <th>Quartos</th>\n",
              "      <th>Banheiros</th>\n",
              "      <th>Vagas</th>\n",
              "      <th>Valor</th>\n",
              "    </tr>\n",
              "  </thead>\n",
              "  <tbody>\n",
              "    <tr>\n",
              "      <th>3522</th>\n",
              "      <td>NaN</td>\n",
              "      <td>Jardim Leonor</td>\n",
              "      <td>São Paulo</td>\n",
              "      <td>300</td>\n",
              "      <td>3</td>\n",
              "      <td>4</td>\n",
              "      <td>3</td>\n",
              "      <td>R$ 1.100.000</td>\n",
              "    </tr>\n",
              "    <tr>\n",
              "      <th>9843</th>\n",
              "      <td>Rua José Santana, 480</td>\n",
              "      <td>Vila Reis</td>\n",
              "      <td>São Paulo</td>\n",
              "      <td>66</td>\n",
              "      <td>2</td>\n",
              "      <td>1</td>\n",
              "      <td>2</td>\n",
              "      <td>R$ 320.004</td>\n",
              "    </tr>\n",
              "    <tr>\n",
              "      <th>6588</th>\n",
              "      <td>Rua Álvaro Rodrigues, 658</td>\n",
              "      <td>Vila Cordeiro</td>\n",
              "      <td>São Paulo</td>\n",
              "      <td>300</td>\n",
              "      <td>3</td>\n",
              "      <td>4</td>\n",
              "      <td>2</td>\n",
              "      <td>R$ 1.700.000</td>\n",
              "    </tr>\n",
              "    <tr>\n",
              "      <th>8165</th>\n",
              "      <td>NaN</td>\n",
              "      <td>Belenzinho</td>\n",
              "      <td>São Paulo</td>\n",
              "      <td>230</td>\n",
              "      <td>3</td>\n",
              "      <td>2</td>\n",
              "      <td>3</td>\n",
              "      <td>R$ 1.500.000</td>\n",
              "    </tr>\n",
              "    <tr>\n",
              "      <th>2834</th>\n",
              "      <td>Rua Hermógenes Almeida Prado</td>\n",
              "      <td>Jardim Guedala</td>\n",
              "      <td>São Paulo</td>\n",
              "      <td>800</td>\n",
              "      <td>4</td>\n",
              "      <td>8</td>\n",
              "      <td>4</td>\n",
              "      <td>R$ 3.950.000</td>\n",
              "    </tr>\n",
              "    <tr>\n",
              "      <th>6179</th>\n",
              "      <td>Travessa Estrela</td>\n",
              "      <td>Conjunto Promorar Raposo Tavares</td>\n",
              "      <td>São Paulo</td>\n",
              "      <td>245</td>\n",
              "      <td>6</td>\n",
              "      <td>5</td>\n",
              "      <td>1</td>\n",
              "      <td>R$ 500.000</td>\n",
              "    </tr>\n",
              "    <tr>\n",
              "      <th>610</th>\n",
              "      <td>Rua Comendador Bichara Moherdauí</td>\n",
              "      <td>Jardim Leonor</td>\n",
              "      <td>São Paulo</td>\n",
              "      <td>600</td>\n",
              "      <td>3</td>\n",
              "      <td>7</td>\n",
              "      <td>4</td>\n",
              "      <td>R$ 4.500.000</td>\n",
              "    </tr>\n",
              "    <tr>\n",
              "      <th>6121</th>\n",
              "      <td>Rua Eliseu Visconti</td>\n",
              "      <td>Paineiras do Morumbi</td>\n",
              "      <td>São Paulo</td>\n",
              "      <td>660</td>\n",
              "      <td>4</td>\n",
              "      <td>4</td>\n",
              "      <td>6</td>\n",
              "      <td>R$ 4.300.000</td>\n",
              "    </tr>\n",
              "    <tr>\n",
              "      <th>9714</th>\n",
              "      <td>Rua Pistache, 100</td>\n",
              "      <td>Parque dos Príncipes</td>\n",
              "      <td>São Paulo</td>\n",
              "      <td>289</td>\n",
              "      <td>5</td>\n",
              "      <td>3</td>\n",
              "      <td>4</td>\n",
              "      <td>R$ 1.300.000</td>\n",
              "    </tr>\n",
              "    <tr>\n",
              "      <th>7755</th>\n",
              "      <td>NaN</td>\n",
              "      <td>Sumaré</td>\n",
              "      <td>São Paulo</td>\n",
              "      <td>350</td>\n",
              "      <td>3</td>\n",
              "      <td>2</td>\n",
              "      <td>2</td>\n",
              "      <td>R$ 10.000\\n                      /Mês</td>\n",
              "    </tr>\n",
              "  </tbody>\n",
              "</table>\n",
              "</div>\n",
              "      <button class=\"colab-df-convert\" onclick=\"convertToInteractive('df-9f8faa4b-460d-4f39-b3f6-f7b0e79d9ba9')\"\n",
              "              title=\"Convert this dataframe to an interactive table.\"\n",
              "              style=\"display:none;\">\n",
              "        \n",
              "  <svg xmlns=\"http://www.w3.org/2000/svg\" height=\"24px\"viewBox=\"0 0 24 24\"\n",
              "       width=\"24px\">\n",
              "    <path d=\"M0 0h24v24H0V0z\" fill=\"none\"/>\n",
              "    <path d=\"M18.56 5.44l.94 2.06.94-2.06 2.06-.94-2.06-.94-.94-2.06-.94 2.06-2.06.94zm-11 1L8.5 8.5l.94-2.06 2.06-.94-2.06-.94L8.5 2.5l-.94 2.06-2.06.94zm10 10l.94 2.06.94-2.06 2.06-.94-2.06-.94-.94-2.06-.94 2.06-2.06.94z\"/><path d=\"M17.41 7.96l-1.37-1.37c-.4-.4-.92-.59-1.43-.59-.52 0-1.04.2-1.43.59L10.3 9.45l-7.72 7.72c-.78.78-.78 2.05 0 2.83L4 21.41c.39.39.9.59 1.41.59.51 0 1.02-.2 1.41-.59l7.78-7.78 2.81-2.81c.8-.78.8-2.07 0-2.86zM5.41 20L4 18.59l7.72-7.72 1.47 1.35L5.41 20z\"/>\n",
              "  </svg>\n",
              "      </button>\n",
              "      \n",
              "  <style>\n",
              "    .colab-df-container {\n",
              "      display:flex;\n",
              "      flex-wrap:wrap;\n",
              "      gap: 12px;\n",
              "    }\n",
              "\n",
              "    .colab-df-convert {\n",
              "      background-color: #E8F0FE;\n",
              "      border: none;\n",
              "      border-radius: 50%;\n",
              "      cursor: pointer;\n",
              "      display: none;\n",
              "      fill: #1967D2;\n",
              "      height: 32px;\n",
              "      padding: 0 0 0 0;\n",
              "      width: 32px;\n",
              "    }\n",
              "\n",
              "    .colab-df-convert:hover {\n",
              "      background-color: #E2EBFA;\n",
              "      box-shadow: 0px 1px 2px rgba(60, 64, 67, 0.3), 0px 1px 3px 1px rgba(60, 64, 67, 0.15);\n",
              "      fill: #174EA6;\n",
              "    }\n",
              "\n",
              "    [theme=dark] .colab-df-convert {\n",
              "      background-color: #3B4455;\n",
              "      fill: #D2E3FC;\n",
              "    }\n",
              "\n",
              "    [theme=dark] .colab-df-convert:hover {\n",
              "      background-color: #434B5C;\n",
              "      box-shadow: 0px 1px 3px 1px rgba(0, 0, 0, 0.15);\n",
              "      filter: drop-shadow(0px 1px 2px rgba(0, 0, 0, 0.3));\n",
              "      fill: #FFFFFF;\n",
              "    }\n",
              "  </style>\n",
              "\n",
              "      <script>\n",
              "        const buttonEl =\n",
              "          document.querySelector('#df-9f8faa4b-460d-4f39-b3f6-f7b0e79d9ba9 button.colab-df-convert');\n",
              "        buttonEl.style.display =\n",
              "          google.colab.kernel.accessAllowed ? 'block' : 'none';\n",
              "\n",
              "        async function convertToInteractive(key) {\n",
              "          const element = document.querySelector('#df-9f8faa4b-460d-4f39-b3f6-f7b0e79d9ba9');\n",
              "          const dataTable =\n",
              "            await google.colab.kernel.invokeFunction('convertToInteractive',\n",
              "                                                     [key], {});\n",
              "          if (!dataTable) return;\n",
              "\n",
              "          const docLinkHtml = 'Like what you see? Visit the ' +\n",
              "            '<a target=\"_blank\" href=https://colab.research.google.com/notebooks/data_table.ipynb>data table notebook</a>'\n",
              "            + ' to learn more about interactive tables.';\n",
              "          element.innerHTML = '';\n",
              "          dataTable['output_type'] = 'display_data';\n",
              "          await google.colab.output.renderOutput(dataTable, element);\n",
              "          const docLink = document.createElement('div');\n",
              "          docLink.innerHTML = docLinkHtml;\n",
              "          element.appendChild(docLink);\n",
              "        }\n",
              "      </script>\n",
              "    </div>\n",
              "  </div>\n",
              "  "
            ]
          },
          "metadata": {},
          "execution_count": 3
        }
      ]
    },
    {
      "cell_type": "code",
      "source": [
        "dados.info()"
      ],
      "metadata": {
        "colab": {
          "base_uri": "https://localhost:8080/"
        },
        "id": "PSqqMKMqUcFZ",
        "outputId": "e91158a6-5223-4d7d-f241-ca8ec0bd3e85"
      },
      "execution_count": 4,
      "outputs": [
        {
          "output_type": "stream",
          "name": "stdout",
          "text": [
            "<class 'pandas.core.frame.DataFrame'>\n",
            "RangeIndex: 10008 entries, 0 to 10007\n",
            "Data columns (total 8 columns):\n",
            " #   Column     Non-Null Count  Dtype \n",
            "---  ------     --------------  ----- \n",
            " 0   Rua        6574 non-null   object\n",
            " 1   Bairro     9996 non-null   object\n",
            " 2   Cidade     10008 non-null  object\n",
            " 3   Metragem   10008 non-null  int64 \n",
            " 4   Quartos    10008 non-null  int64 \n",
            " 5   Banheiros  10008 non-null  int64 \n",
            " 6   Vagas      10008 non-null  int64 \n",
            " 7   Valor      10008 non-null  object\n",
            "dtypes: int64(4), object(4)\n",
            "memory usage: 625.6+ KB\n"
          ]
        }
      ]
    },
    {
      "cell_type": "code",
      "source": [
        "dados[\"Bairro\"][6522]"
      ],
      "metadata": {
        "colab": {
          "base_uri": "https://localhost:8080/",
          "height": 36
        },
        "id": "P9rkcINCSiai",
        "outputId": "4b1ab8e7-b504-4833-f4bd-f865b412d1ce"
      },
      "execution_count": 5,
      "outputs": [
        {
          "output_type": "execute_result",
          "data": {
            "text/plain": [
              "'Vila Paulo Silas'"
            ],
            "application/vnd.google.colaboratory.intrinsic+json": {
              "type": "string"
            }
          },
          "metadata": {},
          "execution_count": 5
        }
      ]
    },
    {
      "cell_type": "code",
      "source": [
        "dados.Metragem.mean()"
      ],
      "metadata": {
        "colab": {
          "base_uri": "https://localhost:8080/"
        },
        "id": "FYtNWwbkTopx",
        "outputId": "5518b591-7afe-4cf8-90aa-f9514b67c060"
      },
      "execution_count": 6,
      "outputs": [
        {
          "output_type": "execute_result",
          "data": {
            "text/plain": [
              "442.30065947242207"
            ]
          },
          "metadata": {},
          "execution_count": 6
        }
      ]
    },
    {
      "cell_type": "code",
      "source": [
        "dados[\"Metragem\"].mean()"
      ],
      "metadata": {
        "colab": {
          "base_uri": "https://localhost:8080/"
        },
        "id": "CZtnuG1wVDqg",
        "outputId": "67e25ac7-4d3b-4ff5-dbd2-b579610b4aa6"
      },
      "execution_count": 7,
      "outputs": [
        {
          "output_type": "execute_result",
          "data": {
            "text/plain": [
              "442.30065947242207"
            ]
          },
          "metadata": {},
          "execution_count": 7
        }
      ]
    },
    {
      "cell_type": "code",
      "source": [
        "sum((dados[\"Bairro\"] == \"Vila Mariana\"))"
      ],
      "metadata": {
        "colab": {
          "base_uri": "https://localhost:8080/"
        },
        "id": "W-LPCx0qVzvS",
        "outputId": "8276e362-0f69-45fb-fc9c-af81dd3d9d91"
      },
      "execution_count": 8,
      "outputs": [
        {
          "output_type": "execute_result",
          "data": {
            "text/plain": [
              "184"
            ]
          },
          "metadata": {},
          "execution_count": 8
        }
      ]
    },
    {
      "cell_type": "code",
      "source": [
        "tem_imoveis_vila =( dados[\"Bairro\"] == \"Vila Mariana\")\n",
        "tem_imoveis_vila"
      ],
      "metadata": {
        "colab": {
          "base_uri": "https://localhost:8080/"
        },
        "id": "VPAYgHC3WQmy",
        "outputId": "15cc340b-56b3-40a0-aa52-ad04481a0fbe"
      },
      "execution_count": 9,
      "outputs": [
        {
          "output_type": "execute_result",
          "data": {
            "text/plain": [
              "0        False\n",
              "1        False\n",
              "2        False\n",
              "3        False\n",
              "4        False\n",
              "         ...  \n",
              "10003    False\n",
              "10004    False\n",
              "10005    False\n",
              "10006    False\n",
              "10007    False\n",
              "Name: Bairro, Length: 10008, dtype: bool"
            ]
          },
          "metadata": {},
          "execution_count": 9
        }
      ]
    },
    {
      "cell_type": "code",
      "source": [
        "imoveis_vila_mariana = dados[tem_imoveis_vila]\n",
        "imoveis_vila_mariana"
      ],
      "metadata": {
        "colab": {
          "base_uri": "https://localhost:8080/",
          "height": 424
        },
        "id": "2DnvKduJW39N",
        "outputId": "7a560c9b-ca68-4df7-e0d7-ac719564caf4"
      },
      "execution_count": 10,
      "outputs": [
        {
          "output_type": "execute_result",
          "data": {
            "text/plain": [
              "                               Rua        Bairro     Cidade  Metragem  \\\n",
              "100               Rua Pero Correia  Vila Mariana  São Paulo       250   \n",
              "120   Praça Doutor Carvalho Franco  Vila Mariana  São Paulo       250   \n",
              "155     Rua Professor João Marinho  Vila Mariana  São Paulo       170   \n",
              "160                            NaN  Vila Mariana  São Paulo       228   \n",
              "334         Rua Pero Correia, 892   Vila Mariana  São Paulo       350   \n",
              "...                            ...           ...        ...       ...   \n",
              "9645               Rua Sousa Ramos  Vila Mariana  São Paulo       285   \n",
              "9701             Rua Benito Juarez  Vila Mariana  São Paulo       171   \n",
              "9737             Rua Benito Juarez  Vila Mariana  São Paulo       171   \n",
              "9807                           NaN  Vila Mariana  São Paulo       275   \n",
              "9852              Rua França Pinto  Vila Mariana  São Paulo       280   \n",
              "\n",
              "      Quartos  Banheiros  Vagas         Valor  \n",
              "100         3          3      1  R$ 1.350.000  \n",
              "120         3          5      2  R$ 2.450.000  \n",
              "155         3          4      2  R$ 1.490.000  \n",
              "160         4          5      3  R$ 2.200.000  \n",
              "334         6          4     10  R$ 1.700.000  \n",
              "...       ...        ...    ...           ...  \n",
              "9645        3          5      5  R$ 1.650.000  \n",
              "9701        3          2      4  R$ 1.650.000  \n",
              "9737        3          2      4  R$ 1.650.000  \n",
              "9807        3          1      6  R$ 1.500.000  \n",
              "9852        3          3      4  R$ 1.600.000  \n",
              "\n",
              "[184 rows x 8 columns]"
            ],
            "text/html": [
              "\n",
              "  <div id=\"df-fca75174-4dba-4500-aa69-07d7e4d47112\">\n",
              "    <div class=\"colab-df-container\">\n",
              "      <div>\n",
              "<style scoped>\n",
              "    .dataframe tbody tr th:only-of-type {\n",
              "        vertical-align: middle;\n",
              "    }\n",
              "\n",
              "    .dataframe tbody tr th {\n",
              "        vertical-align: top;\n",
              "    }\n",
              "\n",
              "    .dataframe thead th {\n",
              "        text-align: right;\n",
              "    }\n",
              "</style>\n",
              "<table border=\"1\" class=\"dataframe\">\n",
              "  <thead>\n",
              "    <tr style=\"text-align: right;\">\n",
              "      <th></th>\n",
              "      <th>Rua</th>\n",
              "      <th>Bairro</th>\n",
              "      <th>Cidade</th>\n",
              "      <th>Metragem</th>\n",
              "      <th>Quartos</th>\n",
              "      <th>Banheiros</th>\n",
              "      <th>Vagas</th>\n",
              "      <th>Valor</th>\n",
              "    </tr>\n",
              "  </thead>\n",
              "  <tbody>\n",
              "    <tr>\n",
              "      <th>100</th>\n",
              "      <td>Rua Pero Correia</td>\n",
              "      <td>Vila Mariana</td>\n",
              "      <td>São Paulo</td>\n",
              "      <td>250</td>\n",
              "      <td>3</td>\n",
              "      <td>3</td>\n",
              "      <td>1</td>\n",
              "      <td>R$ 1.350.000</td>\n",
              "    </tr>\n",
              "    <tr>\n",
              "      <th>120</th>\n",
              "      <td>Praça Doutor Carvalho Franco</td>\n",
              "      <td>Vila Mariana</td>\n",
              "      <td>São Paulo</td>\n",
              "      <td>250</td>\n",
              "      <td>3</td>\n",
              "      <td>5</td>\n",
              "      <td>2</td>\n",
              "      <td>R$ 2.450.000</td>\n",
              "    </tr>\n",
              "    <tr>\n",
              "      <th>155</th>\n",
              "      <td>Rua Professor João Marinho</td>\n",
              "      <td>Vila Mariana</td>\n",
              "      <td>São Paulo</td>\n",
              "      <td>170</td>\n",
              "      <td>3</td>\n",
              "      <td>4</td>\n",
              "      <td>2</td>\n",
              "      <td>R$ 1.490.000</td>\n",
              "    </tr>\n",
              "    <tr>\n",
              "      <th>160</th>\n",
              "      <td>NaN</td>\n",
              "      <td>Vila Mariana</td>\n",
              "      <td>São Paulo</td>\n",
              "      <td>228</td>\n",
              "      <td>4</td>\n",
              "      <td>5</td>\n",
              "      <td>3</td>\n",
              "      <td>R$ 2.200.000</td>\n",
              "    </tr>\n",
              "    <tr>\n",
              "      <th>334</th>\n",
              "      <td>Rua Pero Correia, 892</td>\n",
              "      <td>Vila Mariana</td>\n",
              "      <td>São Paulo</td>\n",
              "      <td>350</td>\n",
              "      <td>6</td>\n",
              "      <td>4</td>\n",
              "      <td>10</td>\n",
              "      <td>R$ 1.700.000</td>\n",
              "    </tr>\n",
              "    <tr>\n",
              "      <th>...</th>\n",
              "      <td>...</td>\n",
              "      <td>...</td>\n",
              "      <td>...</td>\n",
              "      <td>...</td>\n",
              "      <td>...</td>\n",
              "      <td>...</td>\n",
              "      <td>...</td>\n",
              "      <td>...</td>\n",
              "    </tr>\n",
              "    <tr>\n",
              "      <th>9645</th>\n",
              "      <td>Rua Sousa Ramos</td>\n",
              "      <td>Vila Mariana</td>\n",
              "      <td>São Paulo</td>\n",
              "      <td>285</td>\n",
              "      <td>3</td>\n",
              "      <td>5</td>\n",
              "      <td>5</td>\n",
              "      <td>R$ 1.650.000</td>\n",
              "    </tr>\n",
              "    <tr>\n",
              "      <th>9701</th>\n",
              "      <td>Rua Benito Juarez</td>\n",
              "      <td>Vila Mariana</td>\n",
              "      <td>São Paulo</td>\n",
              "      <td>171</td>\n",
              "      <td>3</td>\n",
              "      <td>2</td>\n",
              "      <td>4</td>\n",
              "      <td>R$ 1.650.000</td>\n",
              "    </tr>\n",
              "    <tr>\n",
              "      <th>9737</th>\n",
              "      <td>Rua Benito Juarez</td>\n",
              "      <td>Vila Mariana</td>\n",
              "      <td>São Paulo</td>\n",
              "      <td>171</td>\n",
              "      <td>3</td>\n",
              "      <td>2</td>\n",
              "      <td>4</td>\n",
              "      <td>R$ 1.650.000</td>\n",
              "    </tr>\n",
              "    <tr>\n",
              "      <th>9807</th>\n",
              "      <td>NaN</td>\n",
              "      <td>Vila Mariana</td>\n",
              "      <td>São Paulo</td>\n",
              "      <td>275</td>\n",
              "      <td>3</td>\n",
              "      <td>1</td>\n",
              "      <td>6</td>\n",
              "      <td>R$ 1.500.000</td>\n",
              "    </tr>\n",
              "    <tr>\n",
              "      <th>9852</th>\n",
              "      <td>Rua França Pinto</td>\n",
              "      <td>Vila Mariana</td>\n",
              "      <td>São Paulo</td>\n",
              "      <td>280</td>\n",
              "      <td>3</td>\n",
              "      <td>3</td>\n",
              "      <td>4</td>\n",
              "      <td>R$ 1.600.000</td>\n",
              "    </tr>\n",
              "  </tbody>\n",
              "</table>\n",
              "<p>184 rows × 8 columns</p>\n",
              "</div>\n",
              "      <button class=\"colab-df-convert\" onclick=\"convertToInteractive('df-fca75174-4dba-4500-aa69-07d7e4d47112')\"\n",
              "              title=\"Convert this dataframe to an interactive table.\"\n",
              "              style=\"display:none;\">\n",
              "        \n",
              "  <svg xmlns=\"http://www.w3.org/2000/svg\" height=\"24px\"viewBox=\"0 0 24 24\"\n",
              "       width=\"24px\">\n",
              "    <path d=\"M0 0h24v24H0V0z\" fill=\"none\"/>\n",
              "    <path d=\"M18.56 5.44l.94 2.06.94-2.06 2.06-.94-2.06-.94-.94-2.06-.94 2.06-2.06.94zm-11 1L8.5 8.5l.94-2.06 2.06-.94-2.06-.94L8.5 2.5l-.94 2.06-2.06.94zm10 10l.94 2.06.94-2.06 2.06-.94-2.06-.94-.94-2.06-.94 2.06-2.06.94z\"/><path d=\"M17.41 7.96l-1.37-1.37c-.4-.4-.92-.59-1.43-.59-.52 0-1.04.2-1.43.59L10.3 9.45l-7.72 7.72c-.78.78-.78 2.05 0 2.83L4 21.41c.39.39.9.59 1.41.59.51 0 1.02-.2 1.41-.59l7.78-7.78 2.81-2.81c.8-.78.8-2.07 0-2.86zM5.41 20L4 18.59l7.72-7.72 1.47 1.35L5.41 20z\"/>\n",
              "  </svg>\n",
              "      </button>\n",
              "      \n",
              "  <style>\n",
              "    .colab-df-container {\n",
              "      display:flex;\n",
              "      flex-wrap:wrap;\n",
              "      gap: 12px;\n",
              "    }\n",
              "\n",
              "    .colab-df-convert {\n",
              "      background-color: #E8F0FE;\n",
              "      border: none;\n",
              "      border-radius: 50%;\n",
              "      cursor: pointer;\n",
              "      display: none;\n",
              "      fill: #1967D2;\n",
              "      height: 32px;\n",
              "      padding: 0 0 0 0;\n",
              "      width: 32px;\n",
              "    }\n",
              "\n",
              "    .colab-df-convert:hover {\n",
              "      background-color: #E2EBFA;\n",
              "      box-shadow: 0px 1px 2px rgba(60, 64, 67, 0.3), 0px 1px 3px 1px rgba(60, 64, 67, 0.15);\n",
              "      fill: #174EA6;\n",
              "    }\n",
              "\n",
              "    [theme=dark] .colab-df-convert {\n",
              "      background-color: #3B4455;\n",
              "      fill: #D2E3FC;\n",
              "    }\n",
              "\n",
              "    [theme=dark] .colab-df-convert:hover {\n",
              "      background-color: #434B5C;\n",
              "      box-shadow: 0px 1px 3px 1px rgba(0, 0, 0, 0.15);\n",
              "      filter: drop-shadow(0px 1px 2px rgba(0, 0, 0, 0.3));\n",
              "      fill: #FFFFFF;\n",
              "    }\n",
              "  </style>\n",
              "\n",
              "      <script>\n",
              "        const buttonEl =\n",
              "          document.querySelector('#df-fca75174-4dba-4500-aa69-07d7e4d47112 button.colab-df-convert');\n",
              "        buttonEl.style.display =\n",
              "          google.colab.kernel.accessAllowed ? 'block' : 'none';\n",
              "\n",
              "        async function convertToInteractive(key) {\n",
              "          const element = document.querySelector('#df-fca75174-4dba-4500-aa69-07d7e4d47112');\n",
              "          const dataTable =\n",
              "            await google.colab.kernel.invokeFunction('convertToInteractive',\n",
              "                                                     [key], {});\n",
              "          if (!dataTable) return;\n",
              "\n",
              "          const docLinkHtml = 'Like what you see? Visit the ' +\n",
              "            '<a target=\"_blank\" href=https://colab.research.google.com/notebooks/data_table.ipynb>data table notebook</a>'\n",
              "            + ' to learn more about interactive tables.';\n",
              "          element.innerHTML = '';\n",
              "          dataTable['output_type'] = 'display_data';\n",
              "          await google.colab.output.renderOutput(dataTable, element);\n",
              "          const docLink = document.createElement('div');\n",
              "          docLink.innerHTML = docLinkHtml;\n",
              "          element.appendChild(docLink);\n",
              "        }\n",
              "      </script>\n",
              "    </div>\n",
              "  </div>\n",
              "  "
            ]
          },
          "metadata": {},
          "execution_count": 10
        }
      ]
    },
    {
      "cell_type": "code",
      "source": [
        "imoveis_vila_mariana[\"Metragem\"].mean()"
      ],
      "metadata": {
        "colab": {
          "base_uri": "https://localhost:8080/"
        },
        "id": "KAZjmOobXJk8",
        "outputId": "f730b16b-0ce0-4a83-91e8-f1e1930140f3"
      },
      "execution_count": 11,
      "outputs": [
        {
          "output_type": "execute_result",
          "data": {
            "text/plain": [
              "233.6195652173913"
            ]
          },
          "metadata": {},
          "execution_count": 11
        }
      ]
    },
    {
      "cell_type": "code",
      "source": [
        "dados[\"Bairro\"].value_counts()"
      ],
      "metadata": {
        "colab": {
          "base_uri": "https://localhost:8080/"
        },
        "id": "pAiOk2ZbXYK8",
        "outputId": "1196cf7c-2299-40c1-9b5a-e48d5a9e765c"
      },
      "execution_count": 12,
      "outputs": [
        {
          "output_type": "execute_result",
          "data": {
            "text/plain": [
              "Alto de Pinheiros     409\n",
              "Jardim Guedala        403\n",
              "Jardim Paulista       309\n",
              "Brooklin Paulista     247\n",
              "Jardim Europa         240\n",
              "                     ... \n",
              "Jardim das Imbuias      1\n",
              "Vila Represa            1\n",
              "Vila Nancy              1\n",
              "Sítio Represa           1\n",
              "Vila Invernada          1\n",
              "Name: Bairro, Length: 701, dtype: int64"
            ]
          },
          "metadata": {},
          "execution_count": 12
        }
      ]
    },
    {
      "cell_type": "code",
      "source": [
        "n_imoveis_bairro = dados[\"Bairro\"].value_counts()\n",
        "n_imoveis_bairro.head(10).plot.bar()"
      ],
      "metadata": {
        "colab": {
          "base_uri": "https://localhost:8080/",
          "height": 356
        },
        "id": "2uGH9Ug2Yy4h",
        "outputId": "fa340555-9e81-4eb7-d04e-7db157179843"
      },
      "execution_count": 13,
      "outputs": [
        {
          "output_type": "execute_result",
          "data": {
            "text/plain": [
              "<matplotlib.axes._subplots.AxesSubplot at 0x7f4b729baa90>"
            ]
          },
          "metadata": {},
          "execution_count": 13
        },
        {
          "output_type": "display_data",
          "data": {
            "text/plain": [
              "<Figure size 432x288 with 1 Axes>"
            ],
            "image/png": "[encoded data removed]"
          },
          "metadata": {
            "needs_background": "light"
          }
        }
      ]
    },
    {
      "cell_type": "markdown",
      "source": [
        "Desafios:\n",
        "\n",
        "1 - Realizar a média da metragem para cara um dos bairros (Paulo)\n",
        "\n",
        "2 - 2 formas de selecionar os dados por bairro (consultar os métodos na documentação do pandas) (Thiago)\n",
        "\n",
        "3 - Explorar alguns gráficos na documentação e aplicar nas demais colunas do DF, tentar colocar alguma conclusão (Thiago)\n",
        "\n",
        "4 - Pegar outros estatísticas dos dados, média, mediana, mim, max (Vivi)\n",
        "\n",
        "5 - Descobrir quais são os bairros que não tem nome de Rua. (Vivi)"
      ],
      "metadata": {
        "id": "ECNTtjSsaTu-"
      }
    },
    {
      "cell_type": "markdown",
      "source": [
        "# **Desafio 1**\n",
        "\n"
      ],
      "metadata": {
        "id": "49TDUmgiyZzh"
      }
    },
    {
      "cell_type": "code",
      "source": [
        "dados.groupby(\"Bairro\").agg({\"Metragem\": [np.mean, np.size]}).head(20)\n",
        "metragem_por_bairro = dados.groupby(\"Bairro\").agg({\"Metragem\": [np.mean, np.size]}).head(20)\n",
        "\n",
        "metragem_por_bairro\n",
        "\n",
        "# 1º jeito que eu fiz utilizando o groupby e a função agg de agregação\n",
        "\n"
      ],
      "metadata": {
        "colab": {
          "base_uri": "https://localhost:8080/",
          "height": 739
        },
        "id": "XgKC-RqDp-c3",
        "outputId": "ba794d22-55f1-45c7-c751-f98f37a84473"
      },
      "execution_count": 14,
      "outputs": [
        {
          "output_type": "execute_result",
          "data": {
            "text/plain": [
              "                             Metragem     \n",
              "                                 mean size\n",
              "Bairro                                    \n",
              "Aclimação                  253.056818   88\n",
              "Alto da Boa Vista          418.875000    8\n",
              "Alto da Lapa               294.337209   86\n",
              "Alto da Mooca              270.050000   20\n",
              "Alto de Pinheiros          433.444988  409\n",
              "Aricanduva                 278.000000    1\n",
              "Balneário Mar Paulista     250.000000    1\n",
              "Barra Funda                135.444444   18\n",
              "Barro Branco (Zona Norte)  489.000000   10\n",
              "Bela Aliança               345.476190   21\n",
              "Bela Vista                 190.000000    1\n",
              "Belenzinho                 215.692308   13\n",
              "Boaçava                    512.026087  115\n",
              "Bom Retiro                 336.500000    2\n",
              "Bortolândia                151.666667    3\n",
              "Bosque da Saúde            247.592593  135\n",
              "Brasilândia                 83.750000    4\n",
              "Brooklin                   339.416667   36\n",
              "Brooklin Novo              290.300000   10\n",
              "Brooklin Paulista          323.676113  247"
            ],
            "text/html": [
              "\n",
              "  <div id=\"df-f7ed262d-23d0-41e3-ac26-fd3e645156b2\">\n",
              "    <div class=\"colab-df-container\">\n",
              "      <div>\n",
              "<style scoped>\n",
              "    .dataframe tbody tr th:only-of-type {\n",
              "        vertical-align: middle;\n",
              "    }\n",
              "\n",
              "    .dataframe tbody tr th {\n",
              "        vertical-align: top;\n",
              "    }\n",
              "\n",
              "    .dataframe thead tr th {\n",
              "        text-align: left;\n",
              "    }\n",
              "\n",
              "    .dataframe thead tr:last-of-type th {\n",
              "        text-align: right;\n",
              "    }\n",
              "</style>\n",
              "<table border=\"1\" class=\"dataframe\">\n",
              "  <thead>\n",
              "    <tr>\n",
              "      <th></th>\n",
              "      <th colspan=\"2\" halign=\"left\">Metragem</th>\n",
              "    </tr>\n",
              "    <tr>\n",
              "      <th></th>\n",
              "      <th>mean</th>\n",
              "      <th>size</th>\n",
              "    </tr>\n",
              "    <tr>\n",
              "      <th>Bairro</th>\n",
              "      <th></th>\n",
              "      <th></th>\n",
              "    </tr>\n",
              "  </thead>\n",
              "  <tbody>\n",
              "    <tr>\n",
              "      <th>Aclimação</th>\n",
              "      <td>253.056818</td>\n",
              "      <td>88</td>\n",
              "    </tr>\n",
              "    <tr>\n",
              "      <th>Alto da Boa Vista</th>\n",
              "      <td>418.875000</td>\n",
              "      <td>8</td>\n",
              "    </tr>\n",
              "    <tr>\n",
              "      <th>Alto da Lapa</th>\n",
              "      <td>294.337209</td>\n",
              "      <td>86</td>\n",
              "    </tr>\n",
              "    <tr>\n",
              "      <th>Alto da Mooca</th>\n",
              "      <td>270.050000</td>\n",
              "      <td>20</td>\n",
              "    </tr>\n",
              "    <tr>\n",
              "      <th>Alto de Pinheiros</th>\n",
              "      <td>433.444988</td>\n",
              "      <td>409</td>\n",
              "    </tr>\n",
              "    <tr>\n",
              "      <th>Aricanduva</th>\n",
              "      <td>278.000000</td>\n",
              "      <td>1</td>\n",
              "    </tr>\n",
              "    <tr>\n",
              "      <th>Balneário Mar Paulista</th>\n",
              "      <td>250.000000</td>\n",
              "      <td>1</td>\n",
              "    </tr>\n",
              "    <tr>\n",
              "      <th>Barra Funda</th>\n",
              "      <td>135.444444</td>\n",
              "      <td>18</td>\n",
              "    </tr>\n",
              "    <tr>\n",
              "      <th>Barro Branco (Zona Norte)</th>\n",
              "      <td>489.000000</td>\n",
              "      <td>10</td>\n",
              "    </tr>\n",
              "    <tr>\n",
              "      <th>Bela Aliança</th>\n",
              "      <td>345.476190</td>\n",
              "      <td>21</td>\n",
              "    </tr>\n",
              "    <tr>\n",
              "      <th>Bela Vista</th>\n",
              "      <td>190.000000</td>\n",
              "      <td>1</td>\n",
              "    </tr>\n",
              "    <tr>\n",
              "      <th>Belenzinho</th>\n",
              "      <td>215.692308</td>\n",
              "      <td>13</td>\n",
              "    </tr>\n",
              "    <tr>\n",
              "      <th>Boaçava</th>\n",
              "      <td>512.026087</td>\n",
              "      <td>115</td>\n",
              "    </tr>\n",
              "    <tr>\n",
              "      <th>Bom Retiro</th>\n",
              "      <td>336.500000</td>\n",
              "      <td>2</td>\n",
              "    </tr>\n",
              "    <tr>\n",
              "      <th>Bortolândia</th>\n",
              "      <td>151.666667</td>\n",
              "      <td>3</td>\n",
              "    </tr>\n",
              "    <tr>\n",
              "      <th>Bosque da Saúde</th>\n",
              "      <td>247.592593</td>\n",
              "      <td>135</td>\n",
              "    </tr>\n",
              "    <tr>\n",
              "      <th>Brasilândia</th>\n",
              "      <td>83.750000</td>\n",
              "      <td>4</td>\n",
              "    </tr>\n",
              "    <tr>\n",
              "      <th>Brooklin</th>\n",
              "      <td>339.416667</td>\n",
              "      <td>36</td>\n",
              "    </tr>\n",
              "    <tr>\n",
              "      <th>Brooklin Novo</th>\n",
              "      <td>290.300000</td>\n",
              "      <td>10</td>\n",
              "    </tr>\n",
              "    <tr>\n",
              "      <th>Brooklin Paulista</th>\n",
              "      <td>323.676113</td>\n",
              "      <td>247</td>\n",
              "    </tr>\n",
              "  </tbody>\n",
              "</table>\n",
              "</div>\n",
              "      <button class=\"colab-df-convert\" onclick=\"convertToInteractive('df-f7ed262d-23d0-41e3-ac26-fd3e645156b2')\"\n",
              "              title=\"Convert this dataframe to an interactive table.\"\n",
              "              style=\"display:none;\">\n",
              "        \n",
              "  <svg xmlns=\"http://www.w3.org/2000/svg\" height=\"24px\"viewBox=\"0 0 24 24\"\n",
              "       width=\"24px\">\n",
              "    <path d=\"M0 0h24v24H0V0z\" fill=\"none\"/>\n",
              "    <path d=\"M18.56 5.44l.94 2.06.94-2.06 2.06-.94-2.06-.94-.94-2.06-.94 2.06-2.06.94zm-11 1L8.5 8.5l.94-2.06 2.06-.94-2.06-.94L8.5 2.5l-.94 2.06-2.06.94zm10 10l.94 2.06.94-2.06 2.06-.94-2.06-.94-.94-2.06-.94 2.06-2.06.94z\"/><path d=\"M17.41 7.96l-1.37-1.37c-.4-.4-.92-.59-1.43-.59-.52 0-1.04.2-1.43.59L10.3 9.45l-7.72 7.72c-.78.78-.78 2.05 0 2.83L4 21.41c.39.39.9.59 1.41.59.51 0 1.02-.2 1.41-.59l7.78-7.78 2.81-2.81c.8-.78.8-2.07 0-2.86zM5.41 20L4 18.59l7.72-7.72 1.47 1.35L5.41 20z\"/>\n",
              "  </svg>\n",
              "      </button>\n",
              "      \n",
              "  <style>\n",
              "    .colab-df-container {\n",
              "      display:flex;\n",
              "      flex-wrap:wrap;\n",
              "      gap: 12px;\n",
              "    }\n",
              "\n",
              "    .colab-df-convert {\n",
              "      background-color: #E8F0FE;\n",
              "      border: none;\n",
              "      border-radius: 50%;\n",
              "      cursor: pointer;\n",
              "      display: none;\n",
              "      fill: #1967D2;\n",
              "      height: 32px;\n",
              "      padding: 0 0 0 0;\n",
              "      width: 32px;\n",
              "    }\n",
              "\n",
              "    .colab-df-convert:hover {\n",
              "      background-color: #E2EBFA;\n",
              "      box-shadow: 0px 1px 2px rgba(60, 64, 67, 0.3), 0px 1px 3px 1px rgba(60, 64, 67, 0.15);\n",
              "      fill: #174EA6;\n",
              "    }\n",
              "\n",
              "    [theme=dark] .colab-df-convert {\n",
              "      background-color: #3B4455;\n",
              "      fill: #D2E3FC;\n",
              "    }\n",
              "\n",
              "    [theme=dark] .colab-df-convert:hover {\n",
              "      background-color: #434B5C;\n",
              "      box-shadow: 0px 1px 3px 1px rgba(0, 0, 0, 0.15);\n",
              "      filter: drop-shadow(0px 1px 2px rgba(0, 0, 0, 0.3));\n",
              "      fill: #FFFFFF;\n",
              "    }\n",
              "  </style>\n",
              "\n",
              "      <script>\n",
              "        const buttonEl =\n",
              "          document.querySelector('#df-f7ed262d-23d0-41e3-ac26-fd3e645156b2 button.colab-df-convert');\n",
              "        buttonEl.style.display =\n",
              "          google.colab.kernel.accessAllowed ? 'block' : 'none';\n",
              "\n",
              "        async function convertToInteractive(key) {\n",
              "          const element = document.querySelector('#df-f7ed262d-23d0-41e3-ac26-fd3e645156b2');\n",
              "          const dataTable =\n",
              "            await google.colab.kernel.invokeFunction('convertToInteractive',\n",
              "                                                     [key], {});\n",
              "          if (!dataTable) return;\n",
              "\n",
              "          const docLinkHtml = 'Like what you see? Visit the ' +\n",
              "            '<a target=\"_blank\" href=https://colab.research.google.com/notebooks/data_table.ipynb>data table notebook</a>'\n",
              "            + ' to learn more about interactive tables.';\n",
              "          element.innerHTML = '';\n",
              "          dataTable['output_type'] = 'display_data';\n",
              "          await google.colab.output.renderOutput(dataTable, element);\n",
              "          const docLink = document.createElement('div');\n",
              "          docLink.innerHTML = docLinkHtml;\n",
              "          element.appendChild(docLink);\n",
              "        }\n",
              "      </script>\n",
              "    </div>\n",
              "  </div>\n",
              "  "
            ]
          },
          "metadata": {},
          "execution_count": 14
        }
      ]
    },
    {
      "cell_type": "code",
      "source": [
        "dados.groupby(\"Bairro\")[\"Metragem\"].mean()\n",
        "\n",
        "# 2º jeito que eu consegui fazer o desafio 1"
      ],
      "metadata": {
        "colab": {
          "base_uri": "https://localhost:8080/"
        },
        "id": "dJilIHljw2pa",
        "outputId": "d8637e8c-f175-49c0-f38f-9a5af44bc8af"
      },
      "execution_count": 15,
      "outputs": [
        {
          "output_type": "execute_result",
          "data": {
            "text/plain": [
              "Bairro\n",
              "Aclimação            253.056818\n",
              "Alto da Boa Vista    418.875000\n",
              "Alto da Lapa         294.337209\n",
              "Alto da Mooca        270.050000\n",
              "Alto de Pinheiros    433.444988\n",
              "                        ...    \n",
              "Vila Água Funda      152.200000\n",
              "Água Branca          191.000000\n",
              "Água Fria            165.416667\n",
              "Água Funda           139.000000\n",
              "Água Rasa            340.250000\n",
              "Name: Metragem, Length: 701, dtype: float64"
            ]
          },
          "metadata": {},
          "execution_count": 15
        }
      ]
    },
    {
      "cell_type": "markdown",
      "source": [
        "# **Desafio 2**"
      ],
      "metadata": {
        "id": "onynvt8c1gw4"
      }
    },
    {
      "cell_type": "code",
      "source": [
        "dados[\"Bairro\"].value_counts()\n",
        "\n",
        "# value_counts() retorna uma Series contendo valores únicos, de modo descendente,\n",
        "# sendo o primeiro elemento o que tem maior frequência de ocorrências. Exclui valores nulos por padrão."
      ],
      "metadata": {
        "colab": {
          "base_uri": "https://localhost:8080/"
        },
        "id": "NTPr-gnA113O",
        "outputId": "ceb681b7-c178-4ade-8652-5017e920fdea"
      },
      "execution_count": 16,
      "outputs": [
        {
          "output_type": "execute_result",
          "data": {
            "text/plain": [
              "Alto de Pinheiros     409\n",
              "Jardim Guedala        403\n",
              "Jardim Paulista       309\n",
              "Brooklin Paulista     247\n",
              "Jardim Europa         240\n",
              "                     ... \n",
              "Jardim das Imbuias      1\n",
              "Vila Represa            1\n",
              "Vila Nancy              1\n",
              "Sítio Represa           1\n",
              "Vila Invernada          1\n",
              "Name: Bairro, Length: 701, dtype: int64"
            ]
          },
          "metadata": {},
          "execution_count": 16
        }
      ]
    },
    {
      "cell_type": "code",
      "source": [
        "dados['Bairro'].sort_values(ascending=True).unique()\n",
        "ver_bairros_unicos = dados['Bairro'].sort_values(ascending=True).unique()\n",
        "\n",
        "ver_bairros_unicos\n",
        "# Utilizei o unique() para retornar valores únicos e o sort_values() para retornar os valores ordenados na ordem alfabética"
      ],
      "metadata": {
        "colab": {
          "base_uri": "https://localhost:8080/"
        },
        "id": "0kPLpETv2V3N",
        "outputId": "642a762e-8d2f-44b8-ce71-f616593f4264"
      },
      "execution_count": 17,
      "outputs": [
        {
          "output_type": "execute_result",
          "data": {
            "text/plain": [
              "array(['Aclimação', 'Alto da Boa Vista', 'Alto da Lapa', 'Alto da Mooca',\n",
              "       'Alto de Pinheiros', 'Aricanduva', 'Balneário Mar Paulista',\n",
              "       'Barra Funda', 'Barro Branco (Zona Norte)', 'Bela Aliança',\n",
              "       'Bela Vista', 'Belenzinho', 'Boaçava', 'Bom Retiro', 'Bortolândia',\n",
              "       'Bosque da Saúde', 'Brasilândia', 'Brooklin', 'Brooklin Novo',\n",
              "       'Brooklin Paulista', 'Brás', 'Burgo Paulista', 'Butantã',\n",
              "       'Cambuci', 'Campininha', 'Campo Belo', 'Campo Grande',\n",
              "       'Campos Elíseos', 'Canindé', 'Capela do Socorro', 'Capão Redondo',\n",
              "       'Carandiru', 'Casa Verde', 'Casa Verde Alta', 'Catumbi',\n",
              "       'Caxingui', 'Cerqueira César', 'Chora Menino',\n",
              "       'Chácara Belenzinho', 'Chácara Califórnia', 'Chácara Flora',\n",
              "       'Chácara Inglesa', 'Chácara Japonesa', 'Chácara Jaraguá',\n",
              "       'Chácara Mafalda', 'Chácara Meyer', 'Chácara Monte Alegre',\n",
              "       'Chácara Santo Antônio (Zona Leste)',\n",
              "       'Chácara Santo Antônio (Zona Sul)', 'Chácara Seis de Outubro',\n",
              "       'Chácara Tatuapé', 'Chácara das Paineiras', 'Cidade Ademar',\n",
              "       'Cidade Antônio Estevão de Carvalho', 'Cidade Centenário',\n",
              "       'Cidade Domitila', 'Cidade Dutra', 'Cidade Jardim', 'Cidade Líder',\n",
              "       'Cidade Monções', 'Cidade Mãe do Céu', 'Cidade Patriarca',\n",
              "       'Cidade São Francisco', 'Cidade São Mateus', 'Cidade Vargas',\n",
              "       'Cidade dos Bandeirantes', 'City América',\n",
              "       'Conjunto Habitacional Barreira Grande',\n",
              "       'Conjunto Habitacional Castro Alves',\n",
              "       'Conjunto Promorar Raposo Tavares',\n",
              "       'Conjunto Residencial Bandeirantes',\n",
              "       'Conjunto Residencial Butantã',\n",
              "       'Conjunto Residencial Jardim Canaã',\n",
              "       'Conjunto Residencial José Bonifácio',\n",
              "       'Conjunto Residencial Morada do Sol',\n",
              "       'Conjunto Residencial Vista Verde', 'Consolação', 'Cupecê',\n",
              "       'Cursino', 'Educandário', 'Engenheiro Goulart', 'Fazenda Morumbi',\n",
              "       'Ferreira', 'Granja Julieta', 'Guaianases', 'Guaianazes',\n",
              "       'Higienópolis', 'Horto Florestal', 'Ibirapuera', 'Imirim',\n",
              "       'Indianópolis', 'Instituto de Previdência', 'Interlagos',\n",
              "       'Ipiranga', 'Itaberaba', 'Itaim Bibi', 'Itaquera', 'Jabaquara',\n",
              "       'Jaguaré', 'Jaraguá', 'Jardim Aeroporto',\n",
              "       'Jardim Alvorada (Zona Oeste)', 'Jardim Ampliação',\n",
              "       'Jardim Amália', 'Jardim América', 'Jardim Ana Maria',\n",
              "       'Jardim Analia Franco', 'Jardim Anhanguera',\n",
              "       'Jardim Anália Franco', 'Jardim Aricanduva', 'Jardim Arize',\n",
              "       'Jardim Aurélia', 'Jardim Avelino', 'Jardim Avenida',\n",
              "       'Jardim Bandeirantes (Zona Norte)', 'Jardim Benfica',\n",
              "       'Jardim Boa Vista (Zona Oeste)', 'Jardim Bonfiglioli',\n",
              "       'Jardim Botucatu', 'Jardim Brasil (Zona Norte)',\n",
              "       'Jardim Brasil (Zona Sul)', 'Jardim Brasília (Zona Leste)',\n",
              "       'Jardim Bélgica', 'Jardim Camargo Novo', 'Jardim Cambara',\n",
              "       'Jardim Campo Grande', 'Jardim Caravelas', 'Jardim Carlu',\n",
              "       'Jardim Casablanca', 'Jardim Castelo', 'Jardim Catanduva',\n",
              "       'Jardim Catarina', 'Jardim Celeste', 'Jardim Cidade Pirituba',\n",
              "       'Jardim Cidalia', 'Jardim Cidália', 'Jardim Cláudia',\n",
              "       'Jardim Coimbra', 'Jardim Colombo', 'Jardim Colonial',\n",
              "       'Jardim Colorado', 'Jardim Consórcio', 'Jardim Cordeiro',\n",
              "       'Jardim Cotiana', 'Jardim Cristal', 'Jardim Célia (Zona Sul)',\n",
              "       \"Jardim D'Abril\", 'Jardim Danfer', 'Jardim Dom Bosco',\n",
              "       'Jardim Domitila', 'Jardim Dracena', 'Jardim Egle',\n",
              "       'Jardim Eliana', 'Jardim Ernestina', 'Jardim Esmeralda',\n",
              "       'Jardim Ester', 'Jardim Ester Yolanda', 'Jardim Europa',\n",
              "       'Jardim Everest', 'Jardim Felicidade (Zona Oeste)',\n",
              "       'Jardim Fernandes', 'Jardim Floresta', 'Jardim Franca',\n",
              "       'Jardim Germânia', 'Jardim Gonzaga', 'Jardim Guairaca',\n",
              "       'Jardim Guanca', 'Jardim Guapira', 'Jardim Guarapiranga',\n",
              "       'Jardim Guarau', 'Jardim Guedala', 'Jardim Heliomar',\n",
              "       'Jardim Hípico', 'Jardim Ibitirama',\n",
              "       'Jardim Imperador (Zona Leste)', 'Jardim Independência',\n",
              "       'Jardim Ipanema (Zona Oeste)', 'Jardim Ipanema (Zona Sul)',\n",
              "       'Jardim Itacolomi', 'Jardim Itapemirim', 'Jardim Itapeva',\n",
              "       'Jardim Iva', 'Jardim Ivana', 'Jardim Jabaquara', 'Jardim Japão',\n",
              "       'Jardim Jaraguá', 'Jardim Jaú (Zona Leste)', 'Jardim Jussara',\n",
              "       'Jardim Leila', 'Jardim Leonor', 'Jardim Leonor Mendes de Barros',\n",
              "       'Jardim Londrina', 'Jardim Lourdes', 'Jardim Luanda',\n",
              "       'Jardim Luzitânia', 'Jardim Mangalot', 'Jardim Maracanã',\n",
              "       'Jardim Marajoara', 'Jardim Maria Augusta', 'Jardim Maria Duarte',\n",
              "       'Jardim Maria Estela', 'Jardim Maria Luiza', 'Jardim Maringá',\n",
              "       'Jardim Marília', 'Jardim Miriam', 'Jardim Modelo',\n",
              "       'Jardim Monte Alegre', 'Jardim Monte Azul', 'Jardim Monte Kemel',\n",
              "       'Jardim Morais Prado', 'Jardim Morro Verde', 'Jardim Morumbi',\n",
              "       'Jardim Nice', 'Jardim Niteroi', 'Jardim Nossa Senhora do Carmo',\n",
              "       'Jardim Nova Germania', 'Jardim Nove de Julho',\n",
              "       'Jardim Novo Mundo', 'Jardim Odete', 'Jardim Olympia',\n",
              "       'Jardim Oriental', 'Jardim Palmares (Zona Sul)', 'Jardim Panorama',\n",
              "       'Jardim Panorama (Zona Leste)', \"Jardim Panorama D'Oeste\",\n",
              "       'Jardim Paraíso', 'Jardim Parque Morumbi', 'Jardim Patente',\n",
              "       'Jardim Patente Novo', 'Jardim Paulista', 'Jardim Paulistano',\n",
              "       'Jardim Penha', 'Jardim Peri', 'Jardim Peri Peri',\n",
              "       'Jardim Petropolis', 'Jardim Petrópolis', 'Jardim Pinheiros',\n",
              "       'Jardim Pirituba', 'Jardim Planalto', 'Jardim Ponte Rasa',\n",
              "       'Jardim Popular', 'Jardim Primavera (Zona Sul)',\n",
              "       'Jardim Promissão', 'Jardim Prudência', 'Jardim Raposo Tavares',\n",
              "       'Jardim Record', 'Jardim Reimberg', 'Jardim Rincão',\n",
              "       'Jardim Rio Pequeno', 'Jardim Riviera', 'Jardim Rizzo',\n",
              "       'Jardim Rosa Maria', 'Jardim Sabará', 'Jardim Santa Adélia',\n",
              "       'Jardim Santa Cruz (Campo Grande)', 'Jardim Santa Cruz (Sacomã)',\n",
              "       'Jardim Santa Fé (Zona Sul)', 'Jardim Santa Helena',\n",
              "       'Jardim Santa Maria', 'Jardim Santo Amaro', 'Jardim Santo Antônio',\n",
              "       'Jardim Santo Elias', 'Jardim Sarah', 'Jardim Satélite',\n",
              "       'Jardim Sul São Paulo', 'Jardim São Bento',\n",
              "       'Jardim São Carlos (Zona Leste)', 'Jardim São Carlos (Zona Sul)',\n",
              "       'Jardim São Jorge', 'Jardim São Jorge (Raposo Tavares)',\n",
              "       'Jardim São José', 'Jardim São Luís', 'Jardim São Nicolau',\n",
              "       'Jardim São Paulo(Zona Norte)', 'Jardim Sílvia (Zona Oeste)',\n",
              "       'Jardim Taboao', 'Jardim Taboão', 'Jardim Taquaral',\n",
              "       'Jardim Tenani', 'Jardim Teresa', 'Jardim Textil', 'Jardim Tietê',\n",
              "       'Jardim Tremembe', 'Jardim Tremembé', 'Jardim Triana',\n",
              "       'Jardim Trussardi', 'Jardim Três Marias', 'Jardim Ubirajara',\n",
              "       'Jardim Umarizal', 'Jardim Umuarama', 'Jardim Vaz de Lima',\n",
              "       'Jardim Vera Cruz', 'Jardim Vera Cruz(Zona Leste)',\n",
              "       'Jardim Vergueiro', 'Jardim Vergueiro (Sacomã)', 'Jardim Viana',\n",
              "       'Jardim Vila Carrão', 'Jardim Vila Formosa', 'Jardim Vila Mariana',\n",
              "       'Jardim Virginia Bianca', 'Jardim Vista Linda',\n",
              "       'Jardim Vitoria Regia', 'Jardim Vitória Régia', 'Jardim Vivan',\n",
              "       'Jardim da Glória', 'Jardim da Pedreira', 'Jardim da Saúde',\n",
              "       'Jardim das Acácias', 'Jardim das Bandeiras',\n",
              "       'Jardim das Camélias', 'Jardim das Carmelitas',\n",
              "       'Jardim das Imbuias', 'Jardim das Laranjeiras',\n",
              "       'Jardim das Vertentes', 'Jardim de Lorenzo', 'Jardim do Campo',\n",
              "       'Jardim do Carmo', 'Jardim do Colégio (Zona Norte)',\n",
              "       'Jardim dos Cataldis', 'Jardim dos Estados',\n",
              "       'Jardim dos Pinheiros', 'Jardim dos Prados', 'Jardim Íris',\n",
              "       'Jardins', 'Jurubatuba', 'Lapa', 'Lapa de Baixo', 'Lar São Paulo',\n",
              "       'Lauzane Paulista', 'Liberdade', 'Limoeiro', 'Mandaqui',\n",
              "       'Maranhão', 'Mirandópolis', 'Moema', 'Mooca', 'Morro dos Ingleses',\n",
              "       'Morumbi', 'Nossa Senhora do Ó', 'Nova Piraju', 'Pacaembu',\n",
              "       'Paineiras do Morumbi', 'Parada Inglesa', 'Parada XV de Novembro',\n",
              "       'Paraisópolis', 'Paraíso', 'Paraíso do Morumbi', 'Pari',\n",
              "       'Parque Alves de Lima', 'Parque Boturussu', 'Parque Casa de Pedra',\n",
              "       'Parque Colonial', 'Parque Continental', 'Parque CíSão Pauloer',\n",
              "       'Parque Edu Chaves', 'Parque Fernanda', 'Parque Fongaro',\n",
              "       'Parque Guarani', 'Parque Imperial', 'Parque Ipê',\n",
              "       'Parque Jabaquara', 'Parque Mandaqui', 'Parque Maria Domitila',\n",
              "       'Parque Maria Fernandes', 'Parque Maria Helena',\n",
              "       'Parque Monteiro Soares', 'Parque Munhoz', 'Parque Nações Unidas',\n",
              "       'Parque Novo Mundo', 'Parque Peruche', 'Parque Ramos Freitas',\n",
              "       'Parque Regina', 'Parque Residencial Julia',\n",
              "       'Parque Residencial Oratorio', 'Parque Santa Cecília',\n",
              "       'Parque Santa Madalena', 'Parque Santa Rita',\n",
              "       'Parque Santo Antônio (Aricanduva)', 'Parque Savoy City',\n",
              "       'Parque Sevilha', 'Parque São Domingos', 'Parque São Jorge',\n",
              "       'Parque São Lucas', 'Parque São Rafael', 'Parque Vitória',\n",
              "       'Parque da Lapa', 'Parque da Mooca', 'Parque da Vila Prudente',\n",
              "       'Parque das Paineiras', 'Parque das Árvores', 'Parque do Castelo',\n",
              "       'Parque do Terceiro Lago', 'Parque dos Príncipes',\n",
              "       'Penha de França', 'Perdizes', 'Pinheiros', 'Piqueri', 'Pirituba',\n",
              "       'Planalto Paulista', 'Pompeia', 'Praia Azul', 'Praia Paulistinha',\n",
              "       'Praia da Lagoa', 'Quarta Parada', 'Quinta da Paineira',\n",
              "       'Real Parque', 'Recanto dos Sonhos', 'Retiro Morumbi',\n",
              "       'Rio Bonito', 'Rio Pequeno', 'Rolinópolis', 'Sacomã',\n",
              "       'Santa Cecília', 'Santa Teresinha', 'Santana', 'Santo Amaro',\n",
              "       'Saúde', 'Siciliano', 'Socorro', 'Sumarezinho', 'Sumaré',\n",
              "       'Super Quadra Morumbi', 'São João Clímaco', 'São Judas',\n",
              "       'São Lucas', 'São Miguel Paulista', 'Sítio Represa',\n",
              "       'Sítio da Figueira', 'Sítio do Mandaqui', 'Tatuapé',\n",
              "       'Terceira Divisão de Interlagos', 'Tremembé', 'Tucuruvi',\n",
              "       'Veleiros', 'Vila Adalgisa', 'Vila Agueda', 'Vila Albertina',\n",
              "       'Vila Alexandria', 'Vila Almeida', 'Vila Alpina', 'Vila Amélia',\n",
              "       'Vila América', 'Vila Analia', 'Vila Anastácio', 'Vila Andrade',\n",
              "       'Vila Anglo Brasileira', 'Vila Anhangüera', 'Vila Antonieta',\n",
              "       'Vila Antonina', 'Vila Antônio', 'Vila Antônio dos Santos',\n",
              "       'Vila Aparecida', 'Vila Araguaia', 'Vila Aricanduva',\n",
              "       'Vila Arriete', 'Vila Aurea', 'Vila Aurora (Zona Norte)',\n",
              "       'Vila Ayrosa', 'Vila Babilônia', 'Vila Baby',\n",
              "       'Vila Bancária Munhoz', 'Vila Bandeirantes', 'Vila Barbosa',\n",
              "       'Vila Bela', 'Vila Bela Aliança', 'Vila Bertioga', 'Vila Boaçava',\n",
              "       'Vila Bonilha Nova', 'Vila Brasilina', 'Vila Brasílio Machado',\n",
              "       'Vila Buenos Aires', 'Vila Butantã', 'Vila Califórnia',\n",
              "       'Vila Califórnia(Zona Sul)', 'Vila Campanela', 'Vila Campestre',\n",
              "       'Vila Campo Grande', 'Vila Canero', 'Vila Caraguatá',\n",
              "       'Vila Carbone', 'Vila Cardoso Franco', 'Vila Carioca',\n",
              "       'Vila Carlos de Campos', 'Vila Carmosina', 'Vila Carolina',\n",
              "       'Vila Carrao', 'Vila Carrão', 'Vila Castelo', 'Vila Celeste',\n",
              "       'Vila Clara', 'Vila Clarice', 'Vila Clementino', 'Vila Cleonice',\n",
              "       'Vila Cláudia', 'Vila Comercial', 'Vila Conde do Pinhal',\n",
              "       'Vila Congonhas', 'Vila Constancia', 'Vila Constança',\n",
              "       'Vila Corberi', 'Vila Cordeiro', 'Vila Cruzeiro',\n",
              "       'Vila Cunha Bueno', 'Vila Curuçá', 'Vila Dalila', 'Vila Dalva',\n",
              "       'Vila Darli', 'Vila Deodoro', 'Vila Diva (Zona Leste)',\n",
              "       'Vila Dom Pedro I', 'Vila Dom Pedro II', 'Vila Domitila',\n",
              "       'Vila Dorna', 'Vila Duarte', 'Vila ESão Pauloerança',\n",
              "       'Vila Elvira', 'Vila Ema', 'Vila Emir', 'Vila Ester (Zona Norte)',\n",
              "       'Vila Euthalia', 'Vila Fachini', 'Vila Fernandes', 'Vila Fiat Lux',\n",
              "       'Vila Firmiano Pinto', 'Vila Formosa', 'Vila Gea',\n",
              "       'Vila Gertrudes', 'Vila Gomes', 'Vila Gomes Cardim', 'Vila Guaca',\n",
              "       'Vila Guarani (Z Sul)', 'Vila Guedes', 'Vila Guilherme',\n",
              "       'Vila Guilhermina', 'Vila Gumercindo', 'Vila Gustavo',\n",
              "       'Vila Hamburguesa', 'Vila Hebe', 'Vila Ida', 'Vila Império',\n",
              "       'Vila Inah', 'Vila Independência', 'Vila Indiana',\n",
              "       'Vila Industrial', 'Vila Inglesa', 'Vila Invernada',\n",
              "       'Vila Ipojuca', 'Vila Irmãos Arnoni', 'Vila Isa',\n",
              "       'Vila Isolina Mazzei', 'Vila Ivg', 'Vila Ivone', 'Vila Jacuí',\n",
              "       'Vila Jaguara', 'Vila Joaniza', 'Vila João Batista', 'Vila Jurema',\n",
              "       'Vila Lageado', 'Vila Laís', 'Vila Leonor', 'Vila Leopoldina',\n",
              "       'Vila Libanesa', 'Vila Liviero', 'Vila Londrina', 'Vila Lúcia',\n",
              "       'Vila Macedópolis', 'Vila Madalena', 'Vila Mafra', 'Vila Marari',\n",
              "       'Vila Maria Alta', 'Vila Maria Baixa', 'Vila Mariana',\n",
              "       'Vila Marieta', 'Vila Mascote', 'Vila Matilde', 'Vila Mazzei',\n",
              "       'Vila Medeiros', 'Vila Minerva', 'Vila Mira', 'Vila Moinho Velho',\n",
              "       'Vila Monte Alegre', 'Vila Monumento', 'Vila Moraes',\n",
              "       'Vila Moreira', 'Vila Morse', 'Vila Morumbi', 'Vila Nair',\n",
              "       'Vila Nancy', 'Vila Natália', 'Vila Neila', 'Vila Nelson',\n",
              "       'Vila Nhocune', 'Vila Nilo', 'Vila Nivi', 'Vila Noca', 'Vila Nova',\n",
              "       'Vila Nova Alba', 'Vila Nova Cachoeirinha', 'Vila Nova Caledonia',\n",
              "       'Vila Nova Caledônia', 'Vila Nova Conceição', 'Vila Nova Curuçá',\n",
              "       'Vila Nova Manchester', 'Vila Nova Mazzei', 'Vila Nova Pauliceia',\n",
              "       'Vila Nova Savoia', 'Vila Olinda', 'Vila Olímpia', 'Vila Oratório',\n",
              "       'Vila Paiva', 'Vila Palmeiras', 'Vila Paranaguá',\n",
              "       'Vila Parque Jabaquara', 'Vila Paulicéia', 'Vila Paulista',\n",
              "       'Vila Paulo Silas', 'Vila Pedra Branca', 'Vila Pedroso',\n",
              "       'Vila Pereira Barreto', 'Vila Perus', 'Vila Piauí', 'Vila Picinin',\n",
              "       'Vila Pirajussara', 'Vila Pirituba', 'Vila Pita', 'Vila Polopoli',\n",
              "       'Vila Pompéia', 'Vila Ponte Rasa', 'Vila Prado', 'Vila Primavera',\n",
              "       'Vila Progredior', 'Vila Prudente', 'Vila Regente Feijó',\n",
              "       'Vila Reis', 'Vila Represa', 'Vila Rica', 'Vila Rio Branco',\n",
              "       'Vila Romana', 'Vila Romano', 'Vila Romero', 'Vila Rosa',\n",
              "       'Vila Rosaria', 'Vila Roseira II', 'Vila Rui Barbosa', 'Vila Ré',\n",
              "       'Vila Sabrina', 'Vila Salete', 'Vila Santa Catarina',\n",
              "       'Vila Santa Clara', 'Vila Santa Edwiges', 'Vila Santa Maria',\n",
              "       'Vila Santa Teresa (Zona Leste)', 'Vila Santa Teresa (Zona Sul)',\n",
              "       'Vila Santa Terezinha (Zona Norte)', 'Vila Santa Virginia',\n",
              "       'Vila Santana', 'Vila Santo Antônio', 'Vila Santo Estevão',\n",
              "       'Vila Santo Estéfano', 'Vila Santos', 'Vila Sao Paulo',\n",
              "       'Vila Simone', 'Vila Sofia', 'Vila Sonia', 'Vila Suzana',\n",
              "       'Vila São Domingos', 'Vila São Francisco',\n",
              "       'Vila São Francisco (Zona Sul)', 'Vila São Geraldo',\n",
              "       'Vila São José', 'Vila São José (Ipiranga)', 'Vila São Paulo',\n",
              "       'Vila São Pedro', 'Vila São Silvestre', 'Vila São Vicente',\n",
              "       'Vila Sílvia', 'Vila Sônia', 'Vila Talarico', 'Vila Tiradentes',\n",
              "       'Vila Tolstoi', 'Vila Tramontano', 'Vila Uberabinha',\n",
              "       'Vila Universitária', 'Vila União(Zona Norte)', 'Vila Vasconcelos',\n",
              "       'Vila Vera', 'Vila Virginia', 'Vila Vitório Mazzei', 'Vila Zelina',\n",
              "       'Vila da Saúde', 'Vila das Belezas', 'Vila das Mercês',\n",
              "       'Vila do Bosque', 'Vila do Castelo', 'Vila do Encontro',\n",
              "       'Vila dos Remédios', 'Vila Água Funda', 'Água Branca', 'Água Fria',\n",
              "       'Água Funda', 'Água Rasa', nan], dtype=object)"
            ]
          },
          "metadata": {},
          "execution_count": 17
        }
      ]
    },
    {
      "cell_type": "code",
      "source": [
        ""
      ],
      "metadata": {
        "id": "b3jKAoa__aBd"
      },
      "execution_count": 17,
      "outputs": []
    },
    {
      "cell_type": "markdown",
      "source": [
        "# **Desafio 3**\n",
        "\n",
        "Utilizei o scatter plot para verificar se havia alguma relação entre número de quartos e banheiros dos imóveis.\n",
        "\n",
        "Podemos observar que a maioria dos imóveis têm de 4 a 7 banheiros e de 1 a 10 quartos\n",
        "\n",
        "podemos ver alguns outliers:\n",
        "imóvel que possui 40 banheiros e 4 quartos\n",
        "e imóvel que possui 16 quartos 3 banheiros\n"
      ],
      "metadata": {
        "id": "XL_832_N_x3N"
      }
    },
    {
      "cell_type": "code",
      "source": [
        "dados.plot.scatter(x=\"Banheiros\", y=\"Quartos\")\n"
      ],
      "metadata": {
        "colab": {
          "base_uri": "https://localhost:8080/",
          "height": 296
        },
        "id": "Lyzeexvg_2Em",
        "outputId": "2a08c877-6b22-4466-cb22-a9fd776a1a87"
      },
      "execution_count": 18,
      "outputs": [
        {
          "output_type": "execute_result",
          "data": {
            "text/plain": [
              "<matplotlib.axes._subplots.AxesSubplot at 0x7f4b6f659990>"
            ]
          },
          "metadata": {},
          "execution_count": 18
        },
        {
          "output_type": "display_data",
          "data": {
            "text/plain": [
              "<Figure size 432x288 with 1 Axes>"
            ],
            "image/png": "[encoded data removed]"
          },
          "metadata": {
            "needs_background": "light"
          }
        }
      ]
    },
    {
      "cell_type": "code",
      "source": [
        "dados[\"Banheiros\"].value_counts()\n",
        "\n",
        "# verificando os outliers com o value_counts() para saber qual a frequência deles"
      ],
      "metadata": {
        "colab": {
          "base_uri": "https://localhost:8080/"
        },
        "id": "mkW5qexsBhkI",
        "outputId": "f54487d1-f938-4d30-8df3-d5565e68851a"
      },
      "execution_count": 19,
      "outputs": [
        {
          "output_type": "execute_result",
          "data": {
            "text/plain": [
              "3     1952\n",
              "4     1838\n",
              "2     1632\n",
              "5     1615\n",
              "6     1037\n",
              "1     1034\n",
              "7      488\n",
              "8      284\n",
              "9       62\n",
              "10      36\n",
              "11      15\n",
              "12       8\n",
              "14       4\n",
              "40       2\n",
              "16       1\n",
              "Name: Banheiros, dtype: int64"
            ]
          },
          "metadata": {},
          "execution_count": 19
        }
      ]
    },
    {
      "cell_type": "code",
      "source": [
        "dados[\"Banheiros\"] == 40\n",
        "\n",
        "quarenta_banheiros = (dados[\"Banheiros\"] == 40)\n",
        "\n",
        "dados[quarenta_banheiros]\n",
        "\n",
        "# os 2 imóveis que possuem 40 banheiros"
      ],
      "metadata": {
        "colab": {
          "base_uri": "https://localhost:8080/",
          "height": 112
        },
        "id": "-uIrjze-J46u",
        "outputId": "68292f74-4fd9-4305-96a6-ed2159d6c9ea"
      },
      "execution_count": 20,
      "outputs": [
        {
          "output_type": "execute_result",
          "data": {
            "text/plain": [
              "      Rua          Bairro     Cidade  Metragem  Quartos  Banheiros  Vagas  \\\n",
              "2062  NaN  Jardim Guedala  São Paulo       488        4         40      4   \n",
              "2159  NaN  Jardim Guedala  São Paulo       493        4         40      4   \n",
              "\n",
              "             Valor  \n",
              "2062  R$ 2.600.000  \n",
              "2159  R$ 2.600.000  "
            ],
            "text/html": [
              "\n",
              "  <div id=\"df-9dc7b1fc-b60e-49ef-b4ab-eac6d6af2c75\">\n",
              "    <div class=\"colab-df-container\">\n",
              "      <div>\n",
              "<style scoped>\n",
              "    .dataframe tbody tr th:only-of-type {\n",
              "        vertical-align: middle;\n",
              "    }\n",
              "\n",
              "    .dataframe tbody tr th {\n",
              "        vertical-align: top;\n",
              "    }\n",
              "\n",
              "    .dataframe thead th {\n",
              "        text-align: right;\n",
              "    }\n",
              "</style>\n",
              "<table border=\"1\" class=\"dataframe\">\n",
              "  <thead>\n",
              "    <tr style=\"text-align: right;\">\n",
              "      <th></th>\n",
              "      <th>Rua</th>\n",
              "      <th>Bairro</th>\n",
              "      <th>Cidade</th>\n",
              "      <th>Metragem</th>\n",
              "      <th>Quartos</th>\n",
              "      <th>Banheiros</th>\n",
              "      <th>Vagas</th>\n",
              "      <th>Valor</th>\n",
              "    </tr>\n",
              "  </thead>\n",
              "  <tbody>\n",
              "    <tr>\n",
              "      <th>2062</th>\n",
              "      <td>NaN</td>\n",
              "      <td>Jardim Guedala</td>\n",
              "      <td>São Paulo</td>\n",
              "      <td>488</td>\n",
              "      <td>4</td>\n",
              "      <td>40</td>\n",
              "      <td>4</td>\n",
              "      <td>R$ 2.600.000</td>\n",
              "    </tr>\n",
              "    <tr>\n",
              "      <th>2159</th>\n",
              "      <td>NaN</td>\n",
              "      <td>Jardim Guedala</td>\n",
              "      <td>São Paulo</td>\n",
              "      <td>493</td>\n",
              "      <td>4</td>\n",
              "      <td>40</td>\n",
              "      <td>4</td>\n",
              "      <td>R$ 2.600.000</td>\n",
              "    </tr>\n",
              "  </tbody>\n",
              "</table>\n",
              "</div>\n",
              "      <button class=\"colab-df-convert\" onclick=\"convertToInteractive('df-9dc7b1fc-b60e-49ef-b4ab-eac6d6af2c75')\"\n",
              "              title=\"Convert this dataframe to an interactive table.\"\n",
              "              style=\"display:none;\">\n",
              "        \n",
              "  <svg xmlns=\"http://www.w3.org/2000/svg\" height=\"24px\"viewBox=\"0 0 24 24\"\n",
              "       width=\"24px\">\n",
              "    <path d=\"M0 0h24v24H0V0z\" fill=\"none\"/>\n",
              "    <path d=\"M18.56 5.44l.94 2.06.94-2.06 2.06-.94-2.06-.94-.94-2.06-.94 2.06-2.06.94zm-11 1L8.5 8.5l.94-2.06 2.06-.94-2.06-.94L8.5 2.5l-.94 2.06-2.06.94zm10 10l.94 2.06.94-2.06 2.06-.94-2.06-.94-.94-2.06-.94 2.06-2.06.94z\"/><path d=\"M17.41 7.96l-1.37-1.37c-.4-.4-.92-.59-1.43-.59-.52 0-1.04.2-1.43.59L10.3 9.45l-7.72 7.72c-.78.78-.78 2.05 0 2.83L4 21.41c.39.39.9.59 1.41.59.51 0 1.02-.2 1.41-.59l7.78-7.78 2.81-2.81c.8-.78.8-2.07 0-2.86zM5.41 20L4 18.59l7.72-7.72 1.47 1.35L5.41 20z\"/>\n",
              "  </svg>\n",
              "      </button>\n",
              "      \n",
              "  <style>\n",
              "    .colab-df-container {\n",
              "      display:flex;\n",
              "      flex-wrap:wrap;\n",
              "      gap: 12px;\n",
              "    }\n",
              "\n",
              "    .colab-df-convert {\n",
              "      background-color: #E8F0FE;\n",
              "      border: none;\n",
              "      border-radius: 50%;\n",
              "      cursor: pointer;\n",
              "      display: none;\n",
              "      fill: #1967D2;\n",
              "      height: 32px;\n",
              "      padding: 0 0 0 0;\n",
              "      width: 32px;\n",
              "    }\n",
              "\n",
              "    .colab-df-convert:hover {\n",
              "      background-color: #E2EBFA;\n",
              "      box-shadow: 0px 1px 2px rgba(60, 64, 67, 0.3), 0px 1px 3px 1px rgba(60, 64, 67, 0.15);\n",
              "      fill: #174EA6;\n",
              "    }\n",
              "\n",
              "    [theme=dark] .colab-df-convert {\n",
              "      background-color: #3B4455;\n",
              "      fill: #D2E3FC;\n",
              "    }\n",
              "\n",
              "    [theme=dark] .colab-df-convert:hover {\n",
              "      background-color: #434B5C;\n",
              "      box-shadow: 0px 1px 3px 1px rgba(0, 0, 0, 0.15);\n",
              "      filter: drop-shadow(0px 1px 2px rgba(0, 0, 0, 0.3));\n",
              "      fill: #FFFFFF;\n",
              "    }\n",
              "  </style>\n",
              "\n",
              "      <script>\n",
              "        const buttonEl =\n",
              "          document.querySelector('#df-9dc7b1fc-b60e-49ef-b4ab-eac6d6af2c75 button.colab-df-convert');\n",
              "        buttonEl.style.display =\n",
              "          google.colab.kernel.accessAllowed ? 'block' : 'none';\n",
              "\n",
              "        async function convertToInteractive(key) {\n",
              "          const element = document.querySelector('#df-9dc7b1fc-b60e-49ef-b4ab-eac6d6af2c75');\n",
              "          const dataTable =\n",
              "            await google.colab.kernel.invokeFunction('convertToInteractive',\n",
              "                                                     [key], {});\n",
              "          if (!dataTable) return;\n",
              "\n",
              "          const docLinkHtml = 'Like what you see? Visit the ' +\n",
              "            '<a target=\"_blank\" href=https://colab.research.google.com/notebooks/data_table.ipynb>data table notebook</a>'\n",
              "            + ' to learn more about interactive tables.';\n",
              "          element.innerHTML = '';\n",
              "          dataTable['output_type'] = 'display_data';\n",
              "          await google.colab.output.renderOutput(dataTable, element);\n",
              "          const docLink = document.createElement('div');\n",
              "          docLink.innerHTML = docLinkHtml;\n",
              "          element.appendChild(docLink);\n",
              "        }\n",
              "      </script>\n",
              "    </div>\n",
              "  </div>\n",
              "  "
            ]
          },
          "metadata": {},
          "execution_count": 20
        }
      ]
    },
    {
      "cell_type": "code",
      "source": [
        ""
      ],
      "metadata": {
        "id": "8FbaLLvXLq7T"
      },
      "execution_count": 20,
      "outputs": []
    },
    {
      "cell_type": "markdown",
      "source": [
        "# **Desafio 4**"
      ],
      "metadata": {
        "id": "ahO_VbaWOicS"
      }
    },
    {
      "cell_type": "code",
      "source": [
        "dados[\"Bairro\"] == \"Alto de Pinheiros\"\n",
        "\n",
        "tem_imoveis_Alto_de_Pinheiros = (dados[\"Bairro\"] == \"Alto de Pinheiros\")\n",
        "\n",
        "ver_imoveis_Alto_de_Pinheiros = dados[tem_imoveis_Alto_de_Pinheiros]"
      ],
      "metadata": {
        "id": "eP62p_vcOlfZ"
      },
      "execution_count": 21,
      "outputs": []
    },
    {
      "cell_type": "code",
      "source": [
        "ver_imoveis_Alto_de_Pinheiros[\"Banheiros\"].median()\n",
        "\n",
        "#mediana"
      ],
      "metadata": {
        "colab": {
          "base_uri": "https://localhost:8080/"
        },
        "id": "KymxaNTpRleW",
        "outputId": "04105123-ea72-4bfa-8c46-6de9eb93fe6f"
      },
      "execution_count": 22,
      "outputs": [
        {
          "output_type": "execute_result",
          "data": {
            "text/plain": [
              "5.0"
            ]
          },
          "metadata": {},
          "execution_count": 22
        }
      ]
    },
    {
      "cell_type": "code",
      "source": [
        "ver_imoveis_Alto_de_Pinheiros[\"Banheiros\"].mean()\n",
        "\n",
        "#media"
      ],
      "metadata": {
        "colab": {
          "base_uri": "https://localhost:8080/"
        },
        "id": "0DbNwfuQR-zR",
        "outputId": "112d915d-285c-4ef6-eb09-fa305af828ae"
      },
      "execution_count": 23,
      "outputs": [
        {
          "output_type": "execute_result",
          "data": {
            "text/plain": [
              "4.838630806845965"
            ]
          },
          "metadata": {},
          "execution_count": 23
        }
      ]
    },
    {
      "cell_type": "code",
      "source": [
        "(ver_imoveis_Alto_de_Pinheiros[\"Banheiros\"] > 11) * 1\n",
        "\n",
        "testar_soma_banheiros_Alto_de_Pinheiros = (ver_imoveis_Alto_de_Pinheiros[\"Banheiros\"] > 11) * 1\n",
        "sum(testar_soma_banheiros_Alto_de_Pinheiros)\n",
        "\n",
        "# notei que a média e mediana resultaram em valores baixos mesmo analisando um bairro com maior frequencia de ocorrências\n",
        "# então, na curiosidade, chequei para ver se havia algum valor discrepante, algum outlier.\n",
        "# essa consulta me retornou 0, isto é, não existe imóveis com mais de 11 banheiros e por isso a média e mediana estão próximas de 5"
      ],
      "metadata": {
        "colab": {
          "base_uri": "https://localhost:8080/"
        },
        "id": "P_3_14EGSibt",
        "outputId": "8ca3ae58-493b-4181-c946-0cfd0782fc37"
      },
      "execution_count": 24,
      "outputs": [
        {
          "output_type": "execute_result",
          "data": {
            "text/plain": [
              "0"
            ]
          },
          "metadata": {},
          "execution_count": 24
        }
      ]
    },
    {
      "cell_type": "code",
      "source": [
        "ver_imoveis_Alto_de_Pinheiros[\"Banheiros\"].max()\n",
        "\n",
        "# poderia ter usado a função max para verificar a situação anterior, porém estava testando o que aprendi na aula"
      ],
      "metadata": {
        "colab": {
          "base_uri": "https://localhost:8080/"
        },
        "id": "NpRRpCzlTEb8",
        "outputId": "4c1b1476-f7d7-4986-d7eb-8278f15cd5cd"
      },
      "execution_count": 25,
      "outputs": [
        {
          "output_type": "execute_result",
          "data": {
            "text/plain": [
              "11"
            ]
          },
          "metadata": {},
          "execution_count": 25
        }
      ]
    },
    {
      "cell_type": "code",
      "source": [
        "ver_imoveis_Alto_de_Pinheiros[\"Banheiros\"].min()\n"
      ],
      "metadata": {
        "colab": {
          "base_uri": "https://localhost:8080/"
        },
        "id": "hfEYxLxEUvM1",
        "outputId": "eb2d91c9-8e11-47f5-ca2c-6032ea7d5d78"
      },
      "execution_count": 26,
      "outputs": [
        {
          "output_type": "execute_result",
          "data": {
            "text/plain": [
              "1"
            ]
          },
          "metadata": {},
          "execution_count": 26
        }
      ]
    },
    {
      "cell_type": "code",
      "source": [
        ""
      ],
      "metadata": {
        "id": "ekXKYiSTUyYE"
      },
      "execution_count": 26,
      "outputs": []
    },
    {
      "cell_type": "markdown",
      "source": [
        "# **Desafio 5**"
      ],
      "metadata": {
        "id": "YrY2V9uGVPXF"
      }
    },
    {
      "cell_type": "code",
      "source": [
        "dados[\"Rua\"].isnull() #retorna uma series bool, na qual o true corresponde a um valor NaN e false para outros valores\n"
      ],
      "metadata": {
        "colab": {
          "base_uri": "https://localhost:8080/"
        },
        "id": "EPA7l-9zVYZ2",
        "outputId": "f94e7d8d-894e-4aac-a20d-4716b6938379"
      },
      "execution_count": 27,
      "outputs": [
        {
          "output_type": "execute_result",
          "data": {
            "text/plain": [
              "0        False\n",
              "1        False\n",
              "2        False\n",
              "3         True\n",
              "4        False\n",
              "         ...  \n",
              "10003    False\n",
              "10004    False\n",
              "10005    False\n",
              "10006    False\n",
              "10007    False\n",
              "Name: Rua, Length: 10008, dtype: bool"
            ]
          },
          "metadata": {},
          "execution_count": 27
        }
      ]
    },
    {
      "cell_type": "code",
      "source": [
        "dados[dados[\"Rua\"].isnull()] #passando a series no dataframe dados, nós conseguimos ver as ruas que não têm nome"
      ],
      "metadata": {
        "colab": {
          "base_uri": "https://localhost:8080/",
          "height": 424
        },
        "id": "kIP0yHbtrxvR",
        "outputId": "7a87b3e6-434b-4a83-c2ac-fe4847e549a5"
      },
      "execution_count": 28,
      "outputs": [
        {
          "output_type": "execute_result",
          "data": {
            "text/plain": [
              "      Rua                            Bairro     Cidade  Metragem  Quartos  \\\n",
              "3     NaN                    Jardim Morumbi  São Paulo       310        3   \n",
              "11    NaN                  Jardim Luzitânia  São Paulo       436        4   \n",
              "31    NaN                    Parque da Lapa  São Paulo       220        4   \n",
              "56    NaN  Chácara Santo Antônio (Zona Sul)  São Paulo       190        2   \n",
              "57    NaN                    Jardim Guedala  São Paulo       650        4   \n",
              "...   ...                               ...        ...       ...      ...   \n",
              "9963  NaN                 Jardim Petrópolis  São Paulo       423        5   \n",
              "9989  NaN              Parque Alves de Lima  São Paulo       127        2   \n",
              "9991  NaN                      Vila Formosa  São Paulo       145        3   \n",
              "9995  NaN                     Jardim Leonor  São Paulo      1350        5   \n",
              "9999  NaN                 Jardim Petrópolis  São Paulo       423        5   \n",
              "\n",
              "      Banheiros  Vagas         Valor  \n",
              "3             2      4    R$ 685.000  \n",
              "11            3      3     R$ 15.000  \n",
              "31            4      3    R$ 849.000  \n",
              "56            2      2  R$ 1.100.000  \n",
              "57            6      4  R$ 5.500.000  \n",
              "...         ...    ...           ...  \n",
              "9963          7      6  R$ 2.800.000  \n",
              "9989          1      2    R$ 400.000  \n",
              "9991          2      3    R$ 750.000  \n",
              "9995          9      7  R$ 9.500.000  \n",
              "9999          7      6  R$ 2.800.000  \n",
              "\n",
              "[3434 rows x 8 columns]"
            ],
            "text/html": [
              "\n",
              "  <div id=\"df-97a8f994-f6e1-4564-84a9-b82ce891a7a8\">\n",
              "    <div class=\"colab-df-container\">\n",
              "      <div>\n",
              "<style scoped>\n",
              "    .dataframe tbody tr th:only-of-type {\n",
              "        vertical-align: middle;\n",
              "    }\n",
              "\n",
              "    .dataframe tbody tr th {\n",
              "        vertical-align: top;\n",
              "    }\n",
              "\n",
              "    .dataframe thead th {\n",
              "        text-align: right;\n",
              "    }\n",
              "</style>\n",
              "<table border=\"1\" class=\"dataframe\">\n",
              "  <thead>\n",
              "    <tr style=\"text-align: right;\">\n",
              "      <th></th>\n",
              "      <th>Rua</th>\n",
              "      <th>Bairro</th>\n",
              "      <th>Cidade</th>\n",
              "      <th>Metragem</th>\n",
              "      <th>Quartos</th>\n",
              "      <th>Banheiros</th>\n",
              "      <th>Vagas</th>\n",
              "      <th>Valor</th>\n",
              "    </tr>\n",
              "  </thead>\n",
              "  <tbody>\n",
              "    <tr>\n",
              "      <th>3</th>\n",
              "      <td>NaN</td>\n",
              "      <td>Jardim Morumbi</td>\n",
              "      <td>São Paulo</td>\n",
              "      <td>310</td>\n",
              "      <td>3</td>\n",
              "      <td>2</td>\n",
              "      <td>4</td>\n",
              "      <td>R$ 685.000</td>\n",
              "    </tr>\n",
              "    <tr>\n",
              "      <th>11</th>\n",
              "      <td>NaN</td>\n",
              "      <td>Jardim Luzitânia</td>\n",
              "      <td>São Paulo</td>\n",
              "      <td>436</td>\n",
              "      <td>4</td>\n",
              "      <td>3</td>\n",
              "      <td>3</td>\n",
              "      <td>R$ 15.000</td>\n",
              "    </tr>\n",
              "    <tr>\n",
              "      <th>31</th>\n",
              "      <td>NaN</td>\n",
              "      <td>Parque da Lapa</td>\n",
              "      <td>São Paulo</td>\n",
              "      <td>220</td>\n",
              "      <td>4</td>\n",
              "      <td>4</td>\n",
              "      <td>3</td>\n",
              "      <td>R$ 849.000</td>\n",
              "    </tr>\n",
              "    <tr>\n",
              "      <th>56</th>\n",
              "      <td>NaN</td>\n",
              "      <td>Chácara Santo Antônio (Zona Sul)</td>\n",
              "      <td>São Paulo</td>\n",
              "      <td>190</td>\n",
              "      <td>2</td>\n",
              "      <td>2</td>\n",
              "      <td>2</td>\n",
              "      <td>R$ 1.100.000</td>\n",
              "    </tr>\n",
              "    <tr>\n",
              "      <th>57</th>\n",
              "      <td>NaN</td>\n",
              "      <td>Jardim Guedala</td>\n",
              "      <td>São Paulo</td>\n",
              "      <td>650</td>\n",
              "      <td>4</td>\n",
              "      <td>6</td>\n",
              "      <td>4</td>\n",
              "      <td>R$ 5.500.000</td>\n",
              "    </tr>\n",
              "    <tr>\n",
              "      <th>...</th>\n",
              "      <td>...</td>\n",
              "      <td>...</td>\n",
              "      <td>...</td>\n",
              "      <td>...</td>\n",
              "      <td>...</td>\n",
              "      <td>...</td>\n",
              "      <td>...</td>\n",
              "      <td>...</td>\n",
              "    </tr>\n",
              "    <tr>\n",
              "      <th>9963</th>\n",
              "      <td>NaN</td>\n",
              "      <td>Jardim Petrópolis</td>\n",
              "      <td>São Paulo</td>\n",
              "      <td>423</td>\n",
              "      <td>5</td>\n",
              "      <td>7</td>\n",
              "      <td>6</td>\n",
              "      <td>R$ 2.800.000</td>\n",
              "    </tr>\n",
              "    <tr>\n",
              "      <th>9989</th>\n",
              "      <td>NaN</td>\n",
              "      <td>Parque Alves de Lima</td>\n",
              "      <td>São Paulo</td>\n",
              "      <td>127</td>\n",
              "      <td>2</td>\n",
              "      <td>1</td>\n",
              "      <td>2</td>\n",
              "      <td>R$ 400.000</td>\n",
              "    </tr>\n",
              "    <tr>\n",
              "      <th>9991</th>\n",
              "      <td>NaN</td>\n",
              "      <td>Vila Formosa</td>\n",
              "      <td>São Paulo</td>\n",
              "      <td>145</td>\n",
              "      <td>3</td>\n",
              "      <td>2</td>\n",
              "      <td>3</td>\n",
              "      <td>R$ 750.000</td>\n",
              "    </tr>\n",
              "    <tr>\n",
              "      <th>9995</th>\n",
              "      <td>NaN</td>\n",
              "      <td>Jardim Leonor</td>\n",
              "      <td>São Paulo</td>\n",
              "      <td>1350</td>\n",
              "      <td>5</td>\n",
              "      <td>9</td>\n",
              "      <td>7</td>\n",
              "      <td>R$ 9.500.000</td>\n",
              "    </tr>\n",
              "    <tr>\n",
              "      <th>9999</th>\n",
              "      <td>NaN</td>\n",
              "      <td>Jardim Petrópolis</td>\n",
              "      <td>São Paulo</td>\n",
              "      <td>423</td>\n",
              "      <td>5</td>\n",
              "      <td>7</td>\n",
              "      <td>6</td>\n",
              "      <td>R$ 2.800.000</td>\n",
              "    </tr>\n",
              "  </tbody>\n",
              "</table>\n",
              "<p>3434 rows × 8 columns</p>\n",
              "</div>\n",
              "      <button class=\"colab-df-convert\" onclick=\"convertToInteractive('df-97a8f994-f6e1-4564-84a9-b82ce891a7a8')\"\n",
              "              title=\"Convert this dataframe to an interactive table.\"\n",
              "              style=\"display:none;\">\n",
              "        \n",
              "  <svg xmlns=\"http://www.w3.org/2000/svg\" height=\"24px\"viewBox=\"0 0 24 24\"\n",
              "       width=\"24px\">\n",
              "    <path d=\"M0 0h24v24H0V0z\" fill=\"none\"/>\n",
              "    <path d=\"M18.56 5.44l.94 2.06.94-2.06 2.06-.94-2.06-.94-.94-2.06-.94 2.06-2.06.94zm-11 1L8.5 8.5l.94-2.06 2.06-.94-2.06-.94L8.5 2.5l-.94 2.06-2.06.94zm10 10l.94 2.06.94-2.06 2.06-.94-2.06-.94-.94-2.06-.94 2.06-2.06.94z\"/><path d=\"M17.41 7.96l-1.37-1.37c-.4-.4-.92-.59-1.43-.59-.52 0-1.04.2-1.43.59L10.3 9.45l-7.72 7.72c-.78.78-.78 2.05 0 2.83L4 21.41c.39.39.9.59 1.41.59.51 0 1.02-.2 1.41-.59l7.78-7.78 2.81-2.81c.8-.78.8-2.07 0-2.86zM5.41 20L4 18.59l7.72-7.72 1.47 1.35L5.41 20z\"/>\n",
              "  </svg>\n",
              "      </button>\n",
              "      \n",
              "  <style>\n",
              "    .colab-df-container {\n",
              "      display:flex;\n",
              "      flex-wrap:wrap;\n",
              "      gap: 12px;\n",
              "    }\n",
              "\n",
              "    .colab-df-convert {\n",
              "      background-color: #E8F0FE;\n",
              "      border: none;\n",
              "      border-radius: 50%;\n",
              "      cursor: pointer;\n",
              "      display: none;\n",
              "      fill: #1967D2;\n",
              "      height: 32px;\n",
              "      padding: 0 0 0 0;\n",
              "      width: 32px;\n",
              "    }\n",
              "\n",
              "    .colab-df-convert:hover {\n",
              "      background-color: #E2EBFA;\n",
              "      box-shadow: 0px 1px 2px rgba(60, 64, 67, 0.3), 0px 1px 3px 1px rgba(60, 64, 67, 0.15);\n",
              "      fill: #174EA6;\n",
              "    }\n",
              "\n",
              "    [theme=dark] .colab-df-convert {\n",
              "      background-color: #3B4455;\n",
              "      fill: #D2E3FC;\n",
              "    }\n",
              "\n",
              "    [theme=dark] .colab-df-convert:hover {\n",
              "      background-color: #434B5C;\n",
              "      box-shadow: 0px 1px 3px 1px rgba(0, 0, 0, 0.15);\n",
              "      filter: drop-shadow(0px 1px 2px rgba(0, 0, 0, 0.3));\n",
              "      fill: #FFFFFF;\n",
              "    }\n",
              "  </style>\n",
              "\n",
              "      <script>\n",
              "        const buttonEl =\n",
              "          document.querySelector('#df-97a8f994-f6e1-4564-84a9-b82ce891a7a8 button.colab-df-convert');\n",
              "        buttonEl.style.display =\n",
              "          google.colab.kernel.accessAllowed ? 'block' : 'none';\n",
              "\n",
              "        async function convertToInteractive(key) {\n",
              "          const element = document.querySelector('#df-97a8f994-f6e1-4564-84a9-b82ce891a7a8');\n",
              "          const dataTable =\n",
              "            await google.colab.kernel.invokeFunction('convertToInteractive',\n",
              "                                                     [key], {});\n",
              "          if (!dataTable) return;\n",
              "\n",
              "          const docLinkHtml = 'Like what you see? Visit the ' +\n",
              "            '<a target=\"_blank\" href=https://colab.research.google.com/notebooks/data_table.ipynb>data table notebook</a>'\n",
              "            + ' to learn more about interactive tables.';\n",
              "          element.innerHTML = '';\n",
              "          dataTable['output_type'] = 'display_data';\n",
              "          await google.colab.output.renderOutput(dataTable, element);\n",
              "          const docLink = document.createElement('div');\n",
              "          docLink.innerHTML = docLinkHtml;\n",
              "          element.appendChild(docLink);\n",
              "        }\n",
              "      </script>\n",
              "    </div>\n",
              "  </div>\n",
              "  "
            ]
          },
          "metadata": {},
          "execution_count": 28
        }
      ]
    },
    {
      "cell_type": "code",
      "source": [
        "bairros_sem_nome_de_rua = dados[dados[\"Rua\"].isnull()] \n",
        "\n",
        "bairros_unicos_sem_nome_de_rua = bairros_sem_nome_de_rua[\"Bairro\"].sort_values(ascending=True).unique() \n",
        "bairros_unicos_sem_nome_de_rua\n",
        "\n",
        "#Finalizei mostrando quais bairros, de forma única, possuíam ruas sem nome"
      ],
      "metadata": {
        "colab": {
          "base_uri": "https://localhost:8080/"
        },
        "id": "QC4vxXKgmbnE",
        "outputId": "17aa395d-bfc1-4c70-8834-ef40ddd18a65"
      },
      "execution_count": 29,
      "outputs": [
        {
          "output_type": "execute_result",
          "data": {
            "text/plain": [
              "array(['Aclimação', 'Alto da Boa Vista', 'Alto da Lapa', 'Alto da Mooca',\n",
              "       'Alto de Pinheiros', 'Aricanduva', 'Barra Funda', 'Bela Aliança',\n",
              "       'Belenzinho', 'Boaçava', 'Bosque da Saúde', 'Brasilândia',\n",
              "       'Brooklin', 'Brooklin Novo', 'Brooklin Paulista', 'Brás',\n",
              "       'Burgo Paulista', 'Butantã', 'Cambuci', 'Campininha', 'Campo Belo',\n",
              "       'Capão Redondo', 'Caxingui', 'Cerqueira César', 'Chora Menino',\n",
              "       'Chácara Belenzinho', 'Chácara Califórnia', 'Chácara Flora',\n",
              "       'Chácara Inglesa', 'Chácara Japonesa', 'Chácara Mafalda',\n",
              "       'Chácara Meyer', 'Chácara Monte Alegre',\n",
              "       'Chácara Santo Antônio (Zona Sul)', 'Chácara Tatuapé',\n",
              "       'Cidade Ademar', 'Cidade Antônio Estevão de Carvalho',\n",
              "       'Cidade Centenário', 'Cidade Domitila', 'Cidade Dutra',\n",
              "       'Cidade Jardim', 'Cidade Monções', 'Cidade Mãe do Céu',\n",
              "       'Cidade Patriarca', 'Cidade São Mateus', 'Cidade Vargas',\n",
              "       'City América', 'Conjunto Habitacional Castro Alves',\n",
              "       'Conjunto Residencial Butantã',\n",
              "       'Conjunto Residencial Morada do Sol',\n",
              "       'Conjunto Residencial Vista Verde', 'Consolação', 'Cupecê',\n",
              "       'Engenheiro Goulart', 'Fazenda Morumbi', 'Ferreira',\n",
              "       'Granja Julieta', 'Higienópolis', 'Indianópolis',\n",
              "       'Instituto de Previdência', 'Interlagos', 'Ipiranga', 'Itaberaba',\n",
              "       'Itaim Bibi', 'Itaquera', 'Jabaquara', 'Jaguaré', 'Jaraguá',\n",
              "       'Jardim Aeroporto', 'Jardim Ampliação', 'Jardim Amália',\n",
              "       'Jardim América', 'Jardim Ana Maria', 'Jardim Analia Franco',\n",
              "       'Jardim Anália Franco', 'Jardim Boa Vista (Zona Oeste)',\n",
              "       'Jardim Bonfiglioli', 'Jardim Brasil (Zona Sul)',\n",
              "       'Jardim Brasília (Zona Leste)', 'Jardim Bélgica',\n",
              "       'Jardim Camargo Novo', 'Jardim Campo Grande', 'Jardim Castelo',\n",
              "       'Jardim Celeste', 'Jardim Cidade Pirituba', 'Jardim Cidalia',\n",
              "       'Jardim Cidália', 'Jardim Coimbra', 'Jardim Colombo',\n",
              "       'Jardim Consórcio', 'Jardim Cordeiro', 'Jardim Célia (Zona Sul)',\n",
              "       \"Jardim D'Abril\", 'Jardim Danfer', 'Jardim Dom Bosco',\n",
              "       'Jardim Eliana', 'Jardim Ernestina', 'Jardim Ester',\n",
              "       'Jardim Ester Yolanda', 'Jardim Europa', 'Jardim Everest',\n",
              "       'Jardim Floresta', 'Jardim Franca', 'Jardim Gonzaga',\n",
              "       'Jardim Guanca', 'Jardim Guarau', 'Jardim Guedala',\n",
              "       'Jardim Heliomar', 'Jardim Hípico', 'Jardim Independência',\n",
              "       'Jardim Itacolomi', 'Jardim Jabaquara', 'Jardim Japão',\n",
              "       'Jardim Jussara', 'Jardim Leonor',\n",
              "       'Jardim Leonor Mendes de Barros', 'Jardim Londrina',\n",
              "       'Jardim Luzitânia', 'Jardim Marajoara', 'Jardim Maria Duarte',\n",
              "       'Jardim Maria Estela', 'Jardim Marília', 'Jardim Miriam',\n",
              "       'Jardim Monte Alegre', 'Jardim Monte Kemel', 'Jardim Morro Verde',\n",
              "       'Jardim Morumbi', 'Jardim Nice', 'Jardim Novo Mundo',\n",
              "       'Jardim Palmares (Zona Sul)', 'Jardim Panorama',\n",
              "       \"Jardim Panorama D'Oeste\", 'Jardim Patente', 'Jardim Patente Novo',\n",
              "       'Jardim Paulista', 'Jardim Paulistano', 'Jardim Peri',\n",
              "       'Jardim Petropolis', 'Jardim Petrópolis', 'Jardim Pirituba',\n",
              "       'Jardim Planalto', 'Jardim Ponte Rasa', 'Jardim Prudência',\n",
              "       'Jardim Rincão', 'Jardim Rizzo', 'Jardim Sabará',\n",
              "       'Jardim Santa Cruz (Campo Grande)', 'Jardim Santa Helena',\n",
              "       'Jardim Santa Maria', 'Jardim Santo Amaro', 'Jardim Santo Elias',\n",
              "       'Jardim Sarah', 'Jardim Satélite', 'Jardim Sul São Paulo',\n",
              "       'Jardim São Carlos (Zona Sul)', 'Jardim Sílvia (Zona Oeste)',\n",
              "       'Jardim Taboão', 'Jardim Teresa', 'Jardim Textil',\n",
              "       'Jardim Tremembe', 'Jardim Triana', 'Jardim Trussardi',\n",
              "       'Jardim Umuarama', 'Jardim Vergueiro (Sacomã)', 'Jardim Viana',\n",
              "       'Jardim Vila Carrão', 'Jardim Vila Formosa', 'Jardim Vila Mariana',\n",
              "       'Jardim Virginia Bianca', 'Jardim Vitória Régia', 'Jardim Vivan',\n",
              "       'Jardim da Glória', 'Jardim da Saúde', 'Jardim das Acácias',\n",
              "       'Jardim das Bandeiras', 'Jardim das Camélias',\n",
              "       'Jardim das Vertentes', 'Jardim do Colégio (Zona Norte)',\n",
              "       'Jardim dos Estados', 'Lapa', 'Lapa de Baixo', 'Lar São Paulo',\n",
              "       'Lauzane Paulista', 'Liberdade', 'Mirandópolis', 'Moema', 'Mooca',\n",
              "       'Morumbi', 'Nova Piraju', 'Pacaembu', 'Paineiras do Morumbi',\n",
              "       'Parada XV de Novembro', 'Paraisópolis', 'Paraíso',\n",
              "       'Paraíso do Morumbi', 'Parque Alves de Lima', 'Parque Boturussu',\n",
              "       'Parque Casa de Pedra', 'Parque Colonial', 'Parque Continental',\n",
              "       'Parque Edu Chaves', 'Parque Guarani', 'Parque Imperial',\n",
              "       'Parque Jabaquara', 'Parque Mandaqui', 'Parque Maria Domitila',\n",
              "       'Parque Monteiro Soares', 'Parque Nações Unidas',\n",
              "       'Parque Novo Mundo', 'Parque Peruche',\n",
              "       'Parque Residencial Oratorio', 'Parque Santa Rita',\n",
              "       'Parque Santo Antônio (Aricanduva)', 'Parque Savoy City',\n",
              "       'Parque São Domingos', 'Parque São Lucas', 'Parque São Rafael',\n",
              "       'Parque da Lapa', 'Parque da Mooca', 'Parque da Vila Prudente',\n",
              "       'Parque dos Príncipes', 'Penha de França', 'Perdizes', 'Pinheiros',\n",
              "       'Planalto Paulista', 'Praia Paulistinha', 'Quinta da Paineira',\n",
              "       'Real Parque', 'Retiro Morumbi', 'Rio Pequeno', 'Sacomã',\n",
              "       'Santa Cecília', 'Santana', 'Santo Amaro', 'Saúde', 'Siciliano',\n",
              "       'Sumarezinho', 'Sumaré', 'Super Quadra Morumbi',\n",
              "       'Sítio do Mandaqui', 'Tatuapé', 'Tremembé', 'Tucuruvi',\n",
              "       'Vila Adalgisa', 'Vila Agueda', 'Vila Albertina',\n",
              "       'Vila Alexandria', 'Vila Alpina', 'Vila América', 'Vila Analia',\n",
              "       'Vila Andrade', 'Vila Anglo Brasileira', 'Vila Anhangüera',\n",
              "       'Vila Antonieta', 'Vila Antonina', 'Vila Antônio',\n",
              "       'Vila Aparecida', 'Vila Araguaia', 'Vila Arriete', 'Vila Ayrosa',\n",
              "       'Vila Bancária Munhoz', 'Vila Barbosa', 'Vila Bela',\n",
              "       'Vila Bela Aliança', 'Vila Bertioga', 'Vila Boaçava',\n",
              "       'Vila Brasilina', 'Vila Brasílio Machado', 'Vila Buenos Aires',\n",
              "       'Vila Califórnia', 'Vila Califórnia(Zona Sul)',\n",
              "       'Vila Campo Grande', 'Vila Canero', 'Vila Caraguatá',\n",
              "       'Vila Carbone', 'Vila Cardoso Franco', 'Vila Carmosina',\n",
              "       'Vila Carrão', 'Vila Clementino', 'Vila Cláudia', 'Vila Comercial',\n",
              "       'Vila Conde do Pinhal', 'Vila Congonhas', 'Vila Constancia',\n",
              "       'Vila Cordeiro', 'Vila Cruzeiro', 'Vila Curuçá', 'Vila Darli',\n",
              "       'Vila Dom Pedro I', 'Vila ESão Pauloerança', 'Vila Elvira',\n",
              "       'Vila Ema', 'Vila Ester (Zona Norte)', 'Vila Firmiano Pinto',\n",
              "       'Vila Formosa', 'Vila Gea', 'Vila Gertrudes', 'Vila Gomes',\n",
              "       'Vila Gomes Cardim', 'Vila Guarani (Z Sul)', 'Vila Guedes',\n",
              "       'Vila Gumercindo', 'Vila Gustavo', 'Vila Ida', 'Vila Império',\n",
              "       'Vila Inah', 'Vila Inglesa', 'Vila Ipojuca', 'Vila Isa',\n",
              "       'Vila Ivg', 'Vila Jacuí', 'Vila Lageado', 'Vila Leopoldina',\n",
              "       'Vila Londrina', 'Vila Lúcia', 'Vila Macedópolis', 'Vila Madalena',\n",
              "       'Vila Mafra', 'Vila Marari', 'Vila Maria Alta', 'Vila Mariana',\n",
              "       'Vila Marieta', 'Vila Mascote', 'Vila Matilde', 'Vila Mazzei',\n",
              "       'Vila Medeiros', 'Vila Mira', 'Vila Moinho Velho',\n",
              "       'Vila Monte Alegre', 'Vila Monumento', 'Vila Moraes', 'Vila Morse',\n",
              "       'Vila Morumbi', 'Vila Nair', 'Vila Nivi', 'Vila Nova Caledonia',\n",
              "       'Vila Nova Caledônia', 'Vila Nova Conceição', 'Vila Nova Curuçá',\n",
              "       'Vila Nova Pauliceia', 'Vila Olímpia', 'Vila Oratório',\n",
              "       'Vila Paiva', 'Vila Palmeiras', 'Vila Paulicéia', 'Vila Paulista',\n",
              "       'Vila Paulo Silas', 'Vila Pedroso', 'Vila Perus', 'Vila Polopoli',\n",
              "       'Vila Pompéia', 'Vila Ponte Rasa', 'Vila Prado', 'Vila Primavera',\n",
              "       'Vila Progredior', 'Vila Prudente', 'Vila Regente Feijó',\n",
              "       'Vila Romana', 'Vila Romano', 'Vila Romero', 'Vila Rui Barbosa',\n",
              "       'Vila Ré', 'Vila Sabrina', 'Vila Salete', 'Vila Santa Catarina',\n",
              "       'Vila Santa Clara', 'Vila Santa Maria', 'Vila Santana',\n",
              "       'Vila Santo Estéfano', 'Vila Santos', 'Vila Sao Paulo',\n",
              "       'Vila Simone', 'Vila Sonia', 'Vila Suzana', 'Vila São Francisco',\n",
              "       'Vila São José (Ipiranga)', 'Vila São Paulo', 'Vila São Silvestre',\n",
              "       'Vila Sílvia', 'Vila Sônia', 'Vila Talarico', 'Vila Tiradentes',\n",
              "       'Vila Tramontano', 'Vila Vasconcelos', 'Vila Vera',\n",
              "       'Vila Virginia', 'Vila da Saúde', 'Vila das Belezas',\n",
              "       'Vila das Mercês', 'Vila do Encontro', 'Água Branca', 'Água Fria',\n",
              "       'Água Funda', 'Água Rasa'], dtype=object)"
            ]
          },
          "metadata": {},
          "execution_count": 29
        }
      ]
    }
  ]
}